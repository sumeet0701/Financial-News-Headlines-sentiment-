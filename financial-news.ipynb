{
 "cells": [
  {
   "cell_type": "code",
   "execution_count": 1,
   "metadata": {
    "_cell_guid": "b1076dfc-b9ad-4769-8c92-a6c4dae69d19",
    "_uuid": "8f2839f25d086af736a60e9eeb907d3b93b6e0e5",
    "execution": {
     "iopub.execute_input": "2022-08-24T06:02:42.563423Z",
     "iopub.status.busy": "2022-08-24T06:02:42.562492Z",
     "iopub.status.idle": "2022-08-24T06:02:42.611098Z",
     "shell.execute_reply": "2022-08-24T06:02:42.609718Z",
     "shell.execute_reply.started": "2022-08-24T06:02:42.563285Z"
    }
   },
   "outputs": [],
   "source": [
    "import numpy as np # linear algebra\n",
    "import pandas as pd # data processing, CSV file I/O (e.g. pd.read_csv)\n",
    "import warnings\n",
    "warnings.filterwarnings('ignore' )\n"
   ]
  },
  {
   "cell_type": "code",
   "execution_count": 2,
   "metadata": {
    "execution": {
     "iopub.execute_input": "2022-08-24T06:02:42.614133Z",
     "iopub.status.busy": "2022-08-24T06:02:42.613400Z",
     "iopub.status.idle": "2022-08-24T06:02:45.004080Z",
     "shell.execute_reply": "2022-08-24T06:02:45.002683Z",
     "shell.execute_reply.started": "2022-08-24T06:02:42.614086Z"
    }
   },
   "outputs": [
    {
     "name": "stdout",
     "output_type": "stream",
     "text": [
      "Using matplotlib backend: <object object at 0x000001B8B2FA47F0>\n"
     ]
    },
    {
     "name": "stderr",
     "output_type": "stream",
     "text": [
      "[nltk_data] Downloading package omw-1.4 to C:\\Users\\Sumeet\n",
      "[nltk_data]     Maheshwari\\AppData\\Roaming\\nltk_data...\n",
      "[nltk_data]   Package omw-1.4 is already up-to-date!\n",
      "[nltk_data] Downloading package punkt to C:\\Users\\Sumeet\n",
      "[nltk_data]     Maheshwari\\AppData\\Roaming\\nltk_data...\n",
      "[nltk_data]   Package punkt is already up-to-date!\n"
     ]
    },
    {
     "data": {
      "text/plain": [
       "True"
      ]
     },
     "execution_count": 2,
     "metadata": {},
     "output_type": "execute_result"
    }
   ],
   "source": [
    "import seaborn as sns\n",
    "import matplotlib.pyplot as plt\n",
    "%matplotlib\n",
    "sns.set_style('darkgrid')\n",
    "import warnings\n",
    "import re\n",
    "import string\n",
    "pun = string.punctuation\n",
    "import nltk\n",
    "from nltk.corpus import stopwords\n",
    "stopword = stopwords.words('english')\n",
    "from nltk.stem import PorterStemmer, WordNetLemmatizer\n",
    "from nltk.tokenize import word_tokenize\n",
    "nltk.download('omw-1.4')\n",
    "nltk.download('punkt')"
   ]
  },
  {
   "cell_type": "code",
   "execution_count": 3,
   "metadata": {
    "execution": {
     "iopub.execute_input": "2022-08-24T06:02:45.006762Z",
     "iopub.status.busy": "2022-08-24T06:02:45.005534Z",
     "iopub.status.idle": "2022-08-24T06:02:45.372964Z",
     "shell.execute_reply": "2022-08-24T06:02:45.371681Z",
     "shell.execute_reply.started": "2022-08-24T06:02:45.006712Z"
    }
   },
   "outputs": [],
   "source": [
    "guardian = pd.read_csv('guardian_headlines.csv')\n",
    "cnbc = pd.read_csv(\"cnbc_headlines.csv\")\n",
    "reuter = pd.read_csv(\"reuters_headlines.csv\")"
   ]
  },
  {
   "cell_type": "code",
   "execution_count": 4,
   "metadata": {
    "execution": {
     "iopub.execute_input": "2022-08-24T06:02:45.377295Z",
     "iopub.status.busy": "2022-08-24T06:02:45.376328Z",
     "iopub.status.idle": "2022-08-24T06:02:45.397093Z",
     "shell.execute_reply": "2022-08-24T06:02:45.396024Z",
     "shell.execute_reply.started": "2022-08-24T06:02:45.377253Z"
    }
   },
   "outputs": [
    {
     "data": {
      "text/html": [
       "<div>\n",
       "<style scoped>\n",
       "    .dataframe tbody tr th:only-of-type {\n",
       "        vertical-align: middle;\n",
       "    }\n",
       "\n",
       "    .dataframe tbody tr th {\n",
       "        vertical-align: top;\n",
       "    }\n",
       "\n",
       "    .dataframe thead th {\n",
       "        text-align: right;\n",
       "    }\n",
       "</style>\n",
       "<table border=\"1\" class=\"dataframe\">\n",
       "  <thead>\n",
       "    <tr style=\"text-align: right;\">\n",
       "      <th></th>\n",
       "      <th>Time</th>\n",
       "      <th>Headlines</th>\n",
       "    </tr>\n",
       "  </thead>\n",
       "  <tbody>\n",
       "    <tr>\n",
       "      <th>0</th>\n",
       "      <td>18-Jul-20</td>\n",
       "      <td>Johnson is asking Santa for a Christmas recovery</td>\n",
       "    </tr>\n",
       "    <tr>\n",
       "      <th>1</th>\n",
       "      <td>18-Jul-20</td>\n",
       "      <td>‘I now fear the worst’: four grim tales of wor...</td>\n",
       "    </tr>\n",
       "    <tr>\n",
       "      <th>2</th>\n",
       "      <td>18-Jul-20</td>\n",
       "      <td>Five key areas Sunak must tackle to serve up e...</td>\n",
       "    </tr>\n",
       "    <tr>\n",
       "      <th>3</th>\n",
       "      <td>18-Jul-20</td>\n",
       "      <td>Covid-19 leaves firms ‘fatally ill-prepared’ f...</td>\n",
       "    </tr>\n",
       "    <tr>\n",
       "      <th>4</th>\n",
       "      <td>18-Jul-20</td>\n",
       "      <td>The Week in Patriarchy  \\n\\n\\n  Bacardi's 'lad...</td>\n",
       "    </tr>\n",
       "  </tbody>\n",
       "</table>\n",
       "</div>"
      ],
      "text/plain": [
       "        Time                                          Headlines\n",
       "0  18-Jul-20   Johnson is asking Santa for a Christmas recovery\n",
       "1  18-Jul-20  ‘I now fear the worst’: four grim tales of wor...\n",
       "2  18-Jul-20  Five key areas Sunak must tackle to serve up e...\n",
       "3  18-Jul-20  Covid-19 leaves firms ‘fatally ill-prepared’ f...\n",
       "4  18-Jul-20  The Week in Patriarchy  \\n\\n\\n  Bacardi's 'lad..."
      ]
     },
     "execution_count": 4,
     "metadata": {},
     "output_type": "execute_result"
    }
   ],
   "source": [
    "guardian.head()"
   ]
  },
  {
   "cell_type": "code",
   "execution_count": 5,
   "metadata": {
    "execution": {
     "iopub.execute_input": "2022-08-24T06:02:45.399474Z",
     "iopub.status.busy": "2022-08-24T06:02:45.398355Z",
     "iopub.status.idle": "2022-08-24T06:02:45.407862Z",
     "shell.execute_reply": "2022-08-24T06:02:45.406080Z",
     "shell.execute_reply.started": "2022-08-24T06:02:45.399426Z"
    }
   },
   "outputs": [
    {
     "data": {
      "text/plain": [
       "(17800, 2)"
      ]
     },
     "execution_count": 5,
     "metadata": {},
     "output_type": "execute_result"
    }
   ],
   "source": [
    "guardian.shape"
   ]
  },
  {
   "cell_type": "code",
   "execution_count": 6,
   "metadata": {
    "execution": {
     "iopub.execute_input": "2022-08-24T06:02:45.412310Z",
     "iopub.status.busy": "2022-08-24T06:02:45.411904Z",
     "iopub.status.idle": "2022-08-24T06:02:45.422123Z",
     "shell.execute_reply": "2022-08-24T06:02:45.420837Z",
     "shell.execute_reply.started": "2022-08-24T06:02:45.412272Z"
    }
   },
   "outputs": [
    {
     "data": {
      "text/plain": [
       "Index(['Time', 'Headlines'], dtype='object')"
      ]
     },
     "execution_count": 6,
     "metadata": {},
     "output_type": "execute_result"
    }
   ],
   "source": [
    "guardian.columns"
   ]
  },
  {
   "cell_type": "code",
   "execution_count": 7,
   "metadata": {
    "execution": {
     "iopub.execute_input": "2022-08-24T06:02:45.424805Z",
     "iopub.status.busy": "2022-08-24T06:02:45.424212Z",
     "iopub.status.idle": "2022-08-24T06:02:45.454912Z",
     "shell.execute_reply": "2022-08-24T06:02:45.453712Z",
     "shell.execute_reply.started": "2022-08-24T06:02:45.424722Z"
    }
   },
   "outputs": [
    {
     "name": "stdout",
     "output_type": "stream",
     "text": [
      "<class 'pandas.core.frame.DataFrame'>\n",
      "RangeIndex: 17800 entries, 0 to 17799\n",
      "Data columns (total 2 columns):\n",
      " #   Column     Non-Null Count  Dtype \n",
      "---  ------     --------------  ----- \n",
      " 0   Time       17800 non-null  object\n",
      " 1   Headlines  17800 non-null  object\n",
      "dtypes: object(2)\n",
      "memory usage: 278.2+ KB\n"
     ]
    }
   ],
   "source": [
    "guardian.info()"
   ]
  },
  {
   "cell_type": "code",
   "execution_count": 8,
   "metadata": {
    "execution": {
     "iopub.execute_input": "2022-08-24T06:02:45.457932Z",
     "iopub.status.busy": "2022-08-24T06:02:45.457278Z",
     "iopub.status.idle": "2022-08-24T06:02:45.476246Z",
     "shell.execute_reply": "2022-08-24T06:02:45.475110Z",
     "shell.execute_reply.started": "2022-08-24T06:02:45.457894Z"
    }
   },
   "outputs": [
    {
     "data": {
      "text/plain": [
       "0"
      ]
     },
     "execution_count": 8,
     "metadata": {},
     "output_type": "execute_result"
    }
   ],
   "source": [
    "guardian.duplicated().sum()"
   ]
  },
  {
   "cell_type": "code",
   "execution_count": 9,
   "metadata": {
    "execution": {
     "iopub.execute_input": "2022-08-24T06:02:45.481316Z",
     "iopub.status.busy": "2022-08-24T06:02:45.480901Z",
     "iopub.status.idle": "2022-08-24T06:02:45.491984Z",
     "shell.execute_reply": "2022-08-24T06:02:45.491107Z",
     "shell.execute_reply.started": "2022-08-24T06:02:45.481279Z"
    }
   },
   "outputs": [
    {
     "data": {
      "text/plain": [
       "Time         0\n",
       "Headlines    0\n",
       "dtype: int64"
      ]
     },
     "execution_count": 9,
     "metadata": {},
     "output_type": "execute_result"
    }
   ],
   "source": [
    "guardian.isnull().sum()"
   ]
  },
  {
   "cell_type": "markdown",
   "metadata": {},
   "source": [
    "# Basic EDA on CNBC News Headlines"
   ]
  },
  {
   "cell_type": "code",
   "execution_count": 10,
   "metadata": {
    "execution": {
     "iopub.execute_input": "2022-08-24T06:02:45.493325Z",
     "iopub.status.busy": "2022-08-24T06:02:45.492960Z",
     "iopub.status.idle": "2022-08-24T06:02:45.509316Z",
     "shell.execute_reply": "2022-08-24T06:02:45.508246Z",
     "shell.execute_reply.started": "2022-08-24T06:02:45.493293Z"
    }
   },
   "outputs": [
    {
     "data": {
      "text/html": [
       "<div>\n",
       "<style scoped>\n",
       "    .dataframe tbody tr th:only-of-type {\n",
       "        vertical-align: middle;\n",
       "    }\n",
       "\n",
       "    .dataframe tbody tr th {\n",
       "        vertical-align: top;\n",
       "    }\n",
       "\n",
       "    .dataframe thead th {\n",
       "        text-align: right;\n",
       "    }\n",
       "</style>\n",
       "<table border=\"1\" class=\"dataframe\">\n",
       "  <thead>\n",
       "    <tr style=\"text-align: right;\">\n",
       "      <th></th>\n",
       "      <th>Headlines</th>\n",
       "      <th>Time</th>\n",
       "      <th>Description</th>\n",
       "    </tr>\n",
       "  </thead>\n",
       "  <tbody>\n",
       "    <tr>\n",
       "      <th>0</th>\n",
       "      <td>Jim Cramer: A better way to invest in the Covi...</td>\n",
       "      <td>7:51  PM ET Fri, 17 July 2020</td>\n",
       "      <td>\"Mad Money\" host Jim Cramer recommended buying...</td>\n",
       "    </tr>\n",
       "    <tr>\n",
       "      <th>1</th>\n",
       "      <td>Cramer's lightning round: I would own Teradyne</td>\n",
       "      <td>7:33  PM ET Fri, 17 July 2020</td>\n",
       "      <td>\"Mad Money\" host Jim Cramer rings the lightnin...</td>\n",
       "    </tr>\n",
       "    <tr>\n",
       "      <th>2</th>\n",
       "      <td>NaN</td>\n",
       "      <td>NaN</td>\n",
       "      <td>NaN</td>\n",
       "    </tr>\n",
       "    <tr>\n",
       "      <th>3</th>\n",
       "      <td>Cramer's week ahead: Big week for earnings, ev...</td>\n",
       "      <td>7:25  PM ET Fri, 17 July 2020</td>\n",
       "      <td>\"We'll pay more for the earnings of the non-Co...</td>\n",
       "    </tr>\n",
       "    <tr>\n",
       "      <th>4</th>\n",
       "      <td>IQ Capital CEO Keith Bliss says tech and healt...</td>\n",
       "      <td>4:24  PM ET Fri, 17 July 2020</td>\n",
       "      <td>Keith Bliss, IQ Capital CEO, joins \"Closing Be...</td>\n",
       "    </tr>\n",
       "  </tbody>\n",
       "</table>\n",
       "</div>"
      ],
      "text/plain": [
       "                                           Headlines  \\\n",
       "0  Jim Cramer: A better way to invest in the Covi...   \n",
       "1     Cramer's lightning round: I would own Teradyne   \n",
       "2                                                NaN   \n",
       "3  Cramer's week ahead: Big week for earnings, ev...   \n",
       "4  IQ Capital CEO Keith Bliss says tech and healt...   \n",
       "\n",
       "                             Time  \\\n",
       "0   7:51  PM ET Fri, 17 July 2020   \n",
       "1   7:33  PM ET Fri, 17 July 2020   \n",
       "2                             NaN   \n",
       "3   7:25  PM ET Fri, 17 July 2020   \n",
       "4   4:24  PM ET Fri, 17 July 2020   \n",
       "\n",
       "                                         Description  \n",
       "0  \"Mad Money\" host Jim Cramer recommended buying...  \n",
       "1  \"Mad Money\" host Jim Cramer rings the lightnin...  \n",
       "2                                                NaN  \n",
       "3  \"We'll pay more for the earnings of the non-Co...  \n",
       "4  Keith Bliss, IQ Capital CEO, joins \"Closing Be...  "
      ]
     },
     "execution_count": 10,
     "metadata": {},
     "output_type": "execute_result"
    }
   ],
   "source": [
    "cnbc.head()"
   ]
  },
  {
   "cell_type": "code",
   "execution_count": 11,
   "metadata": {
    "execution": {
     "iopub.execute_input": "2022-08-24T06:02:45.511390Z",
     "iopub.status.busy": "2022-08-24T06:02:45.511001Z",
     "iopub.status.idle": "2022-08-24T06:02:45.523886Z",
     "shell.execute_reply": "2022-08-24T06:02:45.522617Z",
     "shell.execute_reply.started": "2022-08-24T06:02:45.511354Z"
    }
   },
   "outputs": [
    {
     "data": {
      "text/plain": [
       "(3080, 3)"
      ]
     },
     "execution_count": 11,
     "metadata": {},
     "output_type": "execute_result"
    }
   ],
   "source": [
    "cnbc.shape"
   ]
  },
  {
   "cell_type": "code",
   "execution_count": 12,
   "metadata": {
    "execution": {
     "iopub.execute_input": "2022-08-24T06:02:45.525686Z",
     "iopub.status.busy": "2022-08-24T06:02:45.525358Z",
     "iopub.status.idle": "2022-08-24T06:02:45.536388Z",
     "shell.execute_reply": "2022-08-24T06:02:45.535218Z",
     "shell.execute_reply.started": "2022-08-24T06:02:45.525654Z"
    }
   },
   "outputs": [
    {
     "data": {
      "text/plain": [
       "Index(['Headlines', 'Time', 'Description'], dtype='object')"
      ]
     },
     "execution_count": 12,
     "metadata": {},
     "output_type": "execute_result"
    }
   ],
   "source": [
    "cnbc.columns"
   ]
  },
  {
   "cell_type": "code",
   "execution_count": 13,
   "metadata": {
    "execution": {
     "iopub.execute_input": "2022-08-24T06:02:45.538557Z",
     "iopub.status.busy": "2022-08-24T06:02:45.538138Z",
     "iopub.status.idle": "2022-08-24T06:02:45.557980Z",
     "shell.execute_reply": "2022-08-24T06:02:45.556647Z",
     "shell.execute_reply.started": "2022-08-24T06:02:45.538520Z"
    }
   },
   "outputs": [
    {
     "name": "stdout",
     "output_type": "stream",
     "text": [
      "<class 'pandas.core.frame.DataFrame'>\n",
      "RangeIndex: 3080 entries, 0 to 3079\n",
      "Data columns (total 3 columns):\n",
      " #   Column       Non-Null Count  Dtype \n",
      "---  ------       --------------  ----- \n",
      " 0   Headlines    2800 non-null   object\n",
      " 1   Time         2800 non-null   object\n",
      " 2   Description  2800 non-null   object\n",
      "dtypes: object(3)\n",
      "memory usage: 72.3+ KB\n"
     ]
    }
   ],
   "source": [
    "cnbc.info()"
   ]
  },
  {
   "cell_type": "code",
   "execution_count": 14,
   "metadata": {
    "execution": {
     "iopub.execute_input": "2022-08-24T06:02:45.560107Z",
     "iopub.status.busy": "2022-08-24T06:02:45.559367Z",
     "iopub.status.idle": "2022-08-24T06:02:45.573793Z",
     "shell.execute_reply": "2022-08-24T06:02:45.572801Z",
     "shell.execute_reply.started": "2022-08-24T06:02:45.560068Z"
    }
   },
   "outputs": [
    {
     "data": {
      "text/plain": [
       "Headlines      280\n",
       "Time           280\n",
       "Description    280\n",
       "dtype: int64"
      ]
     },
     "execution_count": 14,
     "metadata": {},
     "output_type": "execute_result"
    }
   ],
   "source": [
    "cnbc.isnull().sum()"
   ]
  },
  {
   "cell_type": "code",
   "execution_count": 15,
   "metadata": {
    "execution": {
     "iopub.execute_input": "2022-08-24T06:02:45.576780Z",
     "iopub.status.busy": "2022-08-24T06:02:45.576285Z",
     "iopub.status.idle": "2022-08-24T06:02:45.599924Z",
     "shell.execute_reply": "2022-08-24T06:02:45.598615Z",
     "shell.execute_reply.started": "2022-08-24T06:02:45.576730Z"
    }
   },
   "outputs": [
    {
     "data": {
      "text/plain": [
       "279"
      ]
     },
     "execution_count": 15,
     "metadata": {},
     "output_type": "execute_result"
    }
   ],
   "source": [
    "cnbc.duplicated().sum()"
   ]
  },
  {
   "cell_type": "code",
   "execution_count": 16,
   "metadata": {
    "execution": {
     "iopub.execute_input": "2022-08-24T06:02:45.602238Z",
     "iopub.status.busy": "2022-08-24T06:02:45.601864Z",
     "iopub.status.idle": "2022-08-24T06:02:45.611095Z",
     "shell.execute_reply": "2022-08-24T06:02:45.609907Z",
     "shell.execute_reply.started": "2022-08-24T06:02:45.602202Z"
    }
   },
   "outputs": [],
   "source": [
    "# droping the duplicated rows\n",
    "cnbc = cnbc.drop_duplicates()"
   ]
  },
  {
   "cell_type": "code",
   "execution_count": 17,
   "metadata": {
    "execution": {
     "iopub.execute_input": "2022-08-24T06:02:45.613538Z",
     "iopub.status.busy": "2022-08-24T06:02:45.612302Z",
     "iopub.status.idle": "2022-08-24T06:02:45.621763Z",
     "shell.execute_reply": "2022-08-24T06:02:45.620491Z",
     "shell.execute_reply.started": "2022-08-24T06:02:45.613489Z"
    }
   },
   "outputs": [],
   "source": [
    "cnbc.dropna(inplace=True)"
   ]
  },
  {
   "cell_type": "code",
   "execution_count": 18,
   "metadata": {
    "execution": {
     "iopub.execute_input": "2022-08-24T06:02:45.624285Z",
     "iopub.status.busy": "2022-08-24T06:02:45.623603Z",
     "iopub.status.idle": "2022-08-24T06:02:45.634491Z",
     "shell.execute_reply": "2022-08-24T06:02:45.632922Z",
     "shell.execute_reply.started": "2022-08-24T06:02:45.624247Z"
    }
   },
   "outputs": [
    {
     "data": {
      "text/plain": [
       "(2800, 3)"
      ]
     },
     "execution_count": 18,
     "metadata": {},
     "output_type": "execute_result"
    }
   ],
   "source": [
    "cnbc.shape"
   ]
  },
  {
   "cell_type": "markdown",
   "metadata": {},
   "source": [
    "# Basic EDA On reuters_headlines"
   ]
  },
  {
   "cell_type": "code",
   "execution_count": 19,
   "metadata": {
    "execution": {
     "iopub.execute_input": "2022-08-24T06:02:45.636804Z",
     "iopub.status.busy": "2022-08-24T06:02:45.635934Z",
     "iopub.status.idle": "2022-08-24T06:02:45.651957Z",
     "shell.execute_reply": "2022-08-24T06:02:45.650473Z",
     "shell.execute_reply.started": "2022-08-24T06:02:45.636734Z"
    }
   },
   "outputs": [
    {
     "data": {
      "text/html": [
       "<div>\n",
       "<style scoped>\n",
       "    .dataframe tbody tr th:only-of-type {\n",
       "        vertical-align: middle;\n",
       "    }\n",
       "\n",
       "    .dataframe tbody tr th {\n",
       "        vertical-align: top;\n",
       "    }\n",
       "\n",
       "    .dataframe thead th {\n",
       "        text-align: right;\n",
       "    }\n",
       "</style>\n",
       "<table border=\"1\" class=\"dataframe\">\n",
       "  <thead>\n",
       "    <tr style=\"text-align: right;\">\n",
       "      <th></th>\n",
       "      <th>Headlines</th>\n",
       "      <th>Time</th>\n",
       "      <th>Description</th>\n",
       "    </tr>\n",
       "  </thead>\n",
       "  <tbody>\n",
       "    <tr>\n",
       "      <th>0</th>\n",
       "      <td>TikTok considers London and other locations fo...</td>\n",
       "      <td>Jul 18 2020</td>\n",
       "      <td>TikTok has been in discussions with the UK gov...</td>\n",
       "    </tr>\n",
       "    <tr>\n",
       "      <th>1</th>\n",
       "      <td>Disney cuts ad spending on Facebook amid growi...</td>\n",
       "      <td>Jul 18 2020</td>\n",
       "      <td>Walt Disney  has become the latest company to ...</td>\n",
       "    </tr>\n",
       "    <tr>\n",
       "      <th>2</th>\n",
       "      <td>Trail of missing Wirecard executive leads to B...</td>\n",
       "      <td>Jul 18 2020</td>\n",
       "      <td>Former Wirecard  chief operating officer Jan M...</td>\n",
       "    </tr>\n",
       "    <tr>\n",
       "      <th>3</th>\n",
       "      <td>Twitter says attackers downloaded data from up...</td>\n",
       "      <td>Jul 18 2020</td>\n",
       "      <td>Twitter Inc said on Saturday that hackers were...</td>\n",
       "    </tr>\n",
       "    <tr>\n",
       "      <th>4</th>\n",
       "      <td>U.S. Republicans seek liability protections as...</td>\n",
       "      <td>Jul 17 2020</td>\n",
       "      <td>A battle in the U.S. Congress over a new coron...</td>\n",
       "    </tr>\n",
       "  </tbody>\n",
       "</table>\n",
       "</div>"
      ],
      "text/plain": [
       "                                           Headlines         Time  \\\n",
       "0  TikTok considers London and other locations fo...  Jul 18 2020   \n",
       "1  Disney cuts ad spending on Facebook amid growi...  Jul 18 2020   \n",
       "2  Trail of missing Wirecard executive leads to B...  Jul 18 2020   \n",
       "3  Twitter says attackers downloaded data from up...  Jul 18 2020   \n",
       "4  U.S. Republicans seek liability protections as...  Jul 17 2020   \n",
       "\n",
       "                                         Description  \n",
       "0  TikTok has been in discussions with the UK gov...  \n",
       "1  Walt Disney  has become the latest company to ...  \n",
       "2  Former Wirecard  chief operating officer Jan M...  \n",
       "3  Twitter Inc said on Saturday that hackers were...  \n",
       "4  A battle in the U.S. Congress over a new coron...  "
      ]
     },
     "execution_count": 19,
     "metadata": {},
     "output_type": "execute_result"
    }
   ],
   "source": [
    "reuter.head()"
   ]
  },
  {
   "cell_type": "code",
   "execution_count": 20,
   "metadata": {
    "execution": {
     "iopub.execute_input": "2022-08-24T06:02:45.654192Z",
     "iopub.status.busy": "2022-08-24T06:02:45.653816Z",
     "iopub.status.idle": "2022-08-24T06:02:45.662045Z",
     "shell.execute_reply": "2022-08-24T06:02:45.660799Z",
     "shell.execute_reply.started": "2022-08-24T06:02:45.654130Z"
    }
   },
   "outputs": [
    {
     "data": {
      "text/plain": [
       "(32770, 3)"
      ]
     },
     "execution_count": 20,
     "metadata": {},
     "output_type": "execute_result"
    }
   ],
   "source": [
    "reuter.shape"
   ]
  },
  {
   "cell_type": "code",
   "execution_count": 21,
   "metadata": {
    "execution": {
     "iopub.execute_input": "2022-08-24T06:02:45.664584Z",
     "iopub.status.busy": "2022-08-24T06:02:45.664118Z",
     "iopub.status.idle": "2022-08-24T06:02:45.674581Z",
     "shell.execute_reply": "2022-08-24T06:02:45.673360Z",
     "shell.execute_reply.started": "2022-08-24T06:02:45.664539Z"
    }
   },
   "outputs": [
    {
     "data": {
      "text/plain": [
       "Index(['Headlines', 'Time', 'Description'], dtype='object')"
      ]
     },
     "execution_count": 21,
     "metadata": {},
     "output_type": "execute_result"
    }
   ],
   "source": [
    "reuter.columns"
   ]
  },
  {
   "cell_type": "code",
   "execution_count": 22,
   "metadata": {
    "execution": {
     "iopub.execute_input": "2022-08-24T06:02:45.677522Z",
     "iopub.status.busy": "2022-08-24T06:02:45.676941Z",
     "iopub.status.idle": "2022-08-24T06:02:45.699964Z",
     "shell.execute_reply": "2022-08-24T06:02:45.698814Z",
     "shell.execute_reply.started": "2022-08-24T06:02:45.677474Z"
    }
   },
   "outputs": [
    {
     "name": "stdout",
     "output_type": "stream",
     "text": [
      "<class 'pandas.core.frame.DataFrame'>\n",
      "RangeIndex: 32770 entries, 0 to 32769\n",
      "Data columns (total 3 columns):\n",
      " #   Column       Non-Null Count  Dtype \n",
      "---  ------       --------------  ----- \n",
      " 0   Headlines    32770 non-null  object\n",
      " 1   Time         32770 non-null  object\n",
      " 2   Description  32770 non-null  object\n",
      "dtypes: object(3)\n",
      "memory usage: 768.2+ KB\n"
     ]
    }
   ],
   "source": [
    "reuter.info()"
   ]
  },
  {
   "cell_type": "code",
   "execution_count": 23,
   "metadata": {
    "execution": {
     "iopub.execute_input": "2022-08-24T06:02:45.702469Z",
     "iopub.status.busy": "2022-08-24T06:02:45.701990Z",
     "iopub.status.idle": "2022-08-24T06:02:45.721215Z",
     "shell.execute_reply": "2022-08-24T06:02:45.719785Z",
     "shell.execute_reply.started": "2022-08-24T06:02:45.702422Z"
    }
   },
   "outputs": [
    {
     "data": {
      "text/plain": [
       "Headlines      0\n",
       "Time           0\n",
       "Description    0\n",
       "dtype: int64"
      ]
     },
     "execution_count": 23,
     "metadata": {},
     "output_type": "execute_result"
    }
   ],
   "source": [
    "reuter.isnull().sum()"
   ]
  },
  {
   "cell_type": "code",
   "execution_count": 24,
   "metadata": {
    "execution": {
     "iopub.execute_input": "2022-08-24T06:02:45.729404Z",
     "iopub.status.busy": "2022-08-24T06:02:45.728481Z",
     "iopub.status.idle": "2022-08-24T06:02:45.778497Z",
     "shell.execute_reply": "2022-08-24T06:02:45.777396Z",
     "shell.execute_reply.started": "2022-08-24T06:02:45.729357Z"
    }
   },
   "outputs": [
    {
     "data": {
      "text/plain": [
       "55"
      ]
     },
     "execution_count": 24,
     "metadata": {},
     "output_type": "execute_result"
    }
   ],
   "source": [
    "reuter.duplicated().sum()"
   ]
  },
  {
   "cell_type": "code",
   "execution_count": 25,
   "metadata": {
    "execution": {
     "iopub.execute_input": "2022-08-24T06:02:45.780753Z",
     "iopub.status.busy": "2022-08-24T06:02:45.779714Z",
     "iopub.status.idle": "2022-08-24T06:02:45.828599Z",
     "shell.execute_reply": "2022-08-24T06:02:45.827391Z",
     "shell.execute_reply.started": "2022-08-24T06:02:45.780714Z"
    }
   },
   "outputs": [],
   "source": [
    "# drop the duplicated values:\n",
    "reuter.drop_duplicates(inplace = True)"
   ]
  },
  {
   "cell_type": "markdown",
   "metadata": {},
   "source": [
    "# Text Preprocessing"
   ]
  },
  {
   "cell_type": "code",
   "execution_count": 26,
   "metadata": {
    "execution": {
     "iopub.execute_input": "2022-08-24T06:02:45.830772Z",
     "iopub.status.busy": "2022-08-24T06:02:45.830099Z",
     "iopub.status.idle": "2022-08-24T06:02:45.838598Z",
     "shell.execute_reply": "2022-08-24T06:02:45.837516Z",
     "shell.execute_reply.started": "2022-08-24T06:02:45.830735Z"
    }
   },
   "outputs": [],
   "source": [
    "def textpreprocessing(text):\n",
    "    text = text.lower()# lowercase \n",
    "    # removing puncuation \n",
    "    for i in pun:\n",
    "        text = text.replace(i,'')\n",
    "    #removing stop words\n",
    "    stop = set(stopwords.words('english'))\n",
    "    text_token = word_tokenize(text)\n",
    "    word = [word for word in text_token if word not in stop]\n",
    "    \n",
    "    # stremming \n",
    "    \n",
    "    poster_stem = PorterStemmer()\n",
    "    word = [poster_stem.stem(w) for w in word ]\n",
    "    \n",
    "    #lemmitizing\n",
    "    lem= WordNetLemmatizer()\n",
    "    text= [lem.lemmatize(word,'v')for word in word if not word in stop]\n",
    "    \n",
    "    return ' '.join(text)\n",
    "    "
   ]
  },
  {
   "cell_type": "markdown",
   "metadata": {},
   "source": [
    "# SENTIMENT ANAYSIS\n"
   ]
  },
  {
   "cell_type": "code",
   "execution_count": 27,
   "metadata": {
    "execution": {
     "iopub.execute_input": "2022-08-24T06:02:45.840686Z",
     "iopub.status.busy": "2022-08-24T06:02:45.840056Z",
     "iopub.status.idle": "2022-08-24T06:02:45.877389Z",
     "shell.execute_reply": "2022-08-24T06:02:45.876109Z",
     "shell.execute_reply.started": "2022-08-24T06:02:45.840649Z"
    }
   },
   "outputs": [
    {
     "name": "stderr",
     "output_type": "stream",
     "text": [
      "[nltk_data] Downloading package vader_lexicon to C:\\Users\\Sumeet\n",
      "[nltk_data]     Maheshwari\\AppData\\Roaming\\nltk_data...\n",
      "[nltk_data]   Package vader_lexicon is already up-to-date!\n"
     ]
    }
   ],
   "source": [
    "nltk.download('vader_lexicon')\n",
    "from nltk.sentiment.vader import SentimentIntensityAnalyzer\n",
    "\n",
    "sid = SentimentIntensityAnalyzer()"
   ]
  },
  {
   "cell_type": "code",
   "execution_count": 28,
   "metadata": {
    "execution": {
     "iopub.execute_input": "2022-08-24T06:02:45.879456Z",
     "iopub.status.busy": "2022-08-24T06:02:45.878974Z",
     "iopub.status.idle": "2022-08-24T06:02:45.885795Z",
     "shell.execute_reply": "2022-08-24T06:02:45.884235Z",
     "shell.execute_reply.started": "2022-08-24T06:02:45.879408Z"
    }
   },
   "outputs": [],
   "source": [
    "#fuction to decide sentiment as positive, negative and neutral\n",
    "def sentiment(score):\n",
    "    if score < 0.0:\n",
    "        return 'negative'\n",
    "    if score == 0.0:\n",
    "        return 'neutral'\n",
    "    else:\n",
    "        return 'positive'\n",
    "    "
   ]
  },
  {
   "cell_type": "code",
   "execution_count": 29,
   "metadata": {
    "execution": {
     "iopub.execute_input": "2022-08-24T06:02:45.889135Z",
     "iopub.status.busy": "2022-08-24T06:02:45.887904Z",
     "iopub.status.idle": "2022-08-24T06:02:45.902242Z",
     "shell.execute_reply": "2022-08-24T06:02:45.900905Z",
     "shell.execute_reply.started": "2022-08-24T06:02:45.889094Z"
    }
   },
   "outputs": [],
   "source": [
    "# concatenate cnbc headlines dataset and reuters headline dataset\n",
    "new_df = pd.concat([cnbc,reuter],axis=0)"
   ]
  },
  {
   "cell_type": "code",
   "execution_count": 30,
   "metadata": {
    "execution": {
     "iopub.execute_input": "2022-08-24T06:02:45.904750Z",
     "iopub.status.busy": "2022-08-24T06:02:45.904044Z",
     "iopub.status.idle": "2022-08-24T06:02:45.920595Z",
     "shell.execute_reply": "2022-08-24T06:02:45.919361Z",
     "shell.execute_reply.started": "2022-08-24T06:02:45.904710Z"
    }
   },
   "outputs": [
    {
     "data": {
      "text/html": [
       "<div>\n",
       "<style scoped>\n",
       "    .dataframe tbody tr th:only-of-type {\n",
       "        vertical-align: middle;\n",
       "    }\n",
       "\n",
       "    .dataframe tbody tr th {\n",
       "        vertical-align: top;\n",
       "    }\n",
       "\n",
       "    .dataframe thead th {\n",
       "        text-align: right;\n",
       "    }\n",
       "</style>\n",
       "<table border=\"1\" class=\"dataframe\">\n",
       "  <thead>\n",
       "    <tr style=\"text-align: right;\">\n",
       "      <th></th>\n",
       "      <th>Headlines</th>\n",
       "      <th>Time</th>\n",
       "      <th>Description</th>\n",
       "    </tr>\n",
       "  </thead>\n",
       "  <tbody>\n",
       "    <tr>\n",
       "      <th>0</th>\n",
       "      <td>Jim Cramer: A better way to invest in the Covi...</td>\n",
       "      <td>7:51  PM ET Fri, 17 July 2020</td>\n",
       "      <td>\"Mad Money\" host Jim Cramer recommended buying...</td>\n",
       "    </tr>\n",
       "    <tr>\n",
       "      <th>1</th>\n",
       "      <td>Cramer's lightning round: I would own Teradyne</td>\n",
       "      <td>7:33  PM ET Fri, 17 July 2020</td>\n",
       "      <td>\"Mad Money\" host Jim Cramer rings the lightnin...</td>\n",
       "    </tr>\n",
       "    <tr>\n",
       "      <th>3</th>\n",
       "      <td>Cramer's week ahead: Big week for earnings, ev...</td>\n",
       "      <td>7:25  PM ET Fri, 17 July 2020</td>\n",
       "      <td>\"We'll pay more for the earnings of the non-Co...</td>\n",
       "    </tr>\n",
       "    <tr>\n",
       "      <th>4</th>\n",
       "      <td>IQ Capital CEO Keith Bliss says tech and healt...</td>\n",
       "      <td>4:24  PM ET Fri, 17 July 2020</td>\n",
       "      <td>Keith Bliss, IQ Capital CEO, joins \"Closing Be...</td>\n",
       "    </tr>\n",
       "    <tr>\n",
       "      <th>5</th>\n",
       "      <td>Wall Street delivered the 'kind of pullback I'...</td>\n",
       "      <td>7:36  PM ET Thu, 16 July 2020</td>\n",
       "      <td>\"Look for the stocks of high-quality companies...</td>\n",
       "    </tr>\n",
       "  </tbody>\n",
       "</table>\n",
       "</div>"
      ],
      "text/plain": [
       "                                           Headlines  \\\n",
       "0  Jim Cramer: A better way to invest in the Covi...   \n",
       "1     Cramer's lightning round: I would own Teradyne   \n",
       "3  Cramer's week ahead: Big week for earnings, ev...   \n",
       "4  IQ Capital CEO Keith Bliss says tech and healt...   \n",
       "5  Wall Street delivered the 'kind of pullback I'...   \n",
       "\n",
       "                             Time  \\\n",
       "0   7:51  PM ET Fri, 17 July 2020   \n",
       "1   7:33  PM ET Fri, 17 July 2020   \n",
       "3   7:25  PM ET Fri, 17 July 2020   \n",
       "4   4:24  PM ET Fri, 17 July 2020   \n",
       "5   7:36  PM ET Thu, 16 July 2020   \n",
       "\n",
       "                                         Description  \n",
       "0  \"Mad Money\" host Jim Cramer recommended buying...  \n",
       "1  \"Mad Money\" host Jim Cramer rings the lightnin...  \n",
       "3  \"We'll pay more for the earnings of the non-Co...  \n",
       "4  Keith Bliss, IQ Capital CEO, joins \"Closing Be...  \n",
       "5  \"Look for the stocks of high-quality companies...  "
      ]
     },
     "execution_count": 30,
     "metadata": {},
     "output_type": "execute_result"
    }
   ],
   "source": [
    "new_df.head()"
   ]
  },
  {
   "cell_type": "code",
   "execution_count": 31,
   "metadata": {
    "execution": {
     "iopub.execute_input": "2022-08-24T06:02:45.922433Z",
     "iopub.status.busy": "2022-08-24T06:02:45.921820Z",
     "iopub.status.idle": "2022-08-24T06:02:45.933203Z",
     "shell.execute_reply": "2022-08-24T06:02:45.931962Z",
     "shell.execute_reply.started": "2022-08-24T06:02:45.922352Z"
    }
   },
   "outputs": [
    {
     "data": {
      "text/plain": [
       "(35515, 3)"
      ]
     },
     "execution_count": 31,
     "metadata": {},
     "output_type": "execute_result"
    }
   ],
   "source": [
    "new_df.shape"
   ]
  },
  {
   "cell_type": "code",
   "execution_count": 32,
   "metadata": {
    "execution": {
     "iopub.execute_input": "2022-08-24T06:02:45.935853Z",
     "iopub.status.busy": "2022-08-24T06:02:45.935050Z",
     "iopub.status.idle": "2022-08-24T06:03:32.716051Z",
     "shell.execute_reply": "2022-08-24T06:03:32.714590Z",
     "shell.execute_reply.started": "2022-08-24T06:02:45.935804Z"
    }
   },
   "outputs": [],
   "source": [
    "new_df['Description'] = new_df['Description'].apply(textpreprocessing)"
   ]
  },
  {
   "cell_type": "code",
   "execution_count": 33,
   "metadata": {
    "execution": {
     "iopub.execute_input": "2022-08-24T06:03:32.719647Z",
     "iopub.status.busy": "2022-08-24T06:03:32.718415Z",
     "iopub.status.idle": "2022-08-24T06:03:32.733866Z",
     "shell.execute_reply": "2022-08-24T06:03:32.732505Z",
     "shell.execute_reply.started": "2022-08-24T06:03:32.719592Z"
    }
   },
   "outputs": [
    {
     "data": {
      "text/html": [
       "<div>\n",
       "<style scoped>\n",
       "    .dataframe tbody tr th:only-of-type {\n",
       "        vertical-align: middle;\n",
       "    }\n",
       "\n",
       "    .dataframe tbody tr th {\n",
       "        vertical-align: top;\n",
       "    }\n",
       "\n",
       "    .dataframe thead th {\n",
       "        text-align: right;\n",
       "    }\n",
       "</style>\n",
       "<table border=\"1\" class=\"dataframe\">\n",
       "  <thead>\n",
       "    <tr style=\"text-align: right;\">\n",
       "      <th></th>\n",
       "      <th>Headlines</th>\n",
       "      <th>Time</th>\n",
       "      <th>Description</th>\n",
       "    </tr>\n",
       "  </thead>\n",
       "  <tbody>\n",
       "    <tr>\n",
       "      <th>0</th>\n",
       "      <td>Jim Cramer: A better way to invest in the Covi...</td>\n",
       "      <td>7:51  PM ET Fri, 17 July 2020</td>\n",
       "      <td>mad money host jim cramer recommend buy four c...</td>\n",
       "    </tr>\n",
       "    <tr>\n",
       "      <th>1</th>\n",
       "      <td>Cramer's lightning round: I would own Teradyne</td>\n",
       "      <td>7:33  PM ET Fri, 17 July 2020</td>\n",
       "      <td>mad money host jim cramer ring lightn round be...</td>\n",
       "    </tr>\n",
       "    <tr>\n",
       "      <th>3</th>\n",
       "      <td>Cramer's week ahead: Big week for earnings, ev...</td>\n",
       "      <td>7:25  PM ET Fri, 17 July 2020</td>\n",
       "      <td>well pay earn noncovid compani lancet publish ...</td>\n",
       "    </tr>\n",
       "    <tr>\n",
       "      <th>4</th>\n",
       "      <td>IQ Capital CEO Keith Bliss says tech and healt...</td>\n",
       "      <td>4:24  PM ET Fri, 17 July 2020</td>\n",
       "      <td>keith bliss iq capit ceo join close bell talk ...</td>\n",
       "    </tr>\n",
       "    <tr>\n",
       "      <th>5</th>\n",
       "      <td>Wall Street delivered the 'kind of pullback I'...</td>\n",
       "      <td>7:36  PM ET Thu, 16 July 2020</td>\n",
       "      <td>look stock highqual compani go lower even thou...</td>\n",
       "    </tr>\n",
       "  </tbody>\n",
       "</table>\n",
       "</div>"
      ],
      "text/plain": [
       "                                           Headlines  \\\n",
       "0  Jim Cramer: A better way to invest in the Covi...   \n",
       "1     Cramer's lightning round: I would own Teradyne   \n",
       "3  Cramer's week ahead: Big week for earnings, ev...   \n",
       "4  IQ Capital CEO Keith Bliss says tech and healt...   \n",
       "5  Wall Street delivered the 'kind of pullback I'...   \n",
       "\n",
       "                             Time  \\\n",
       "0   7:51  PM ET Fri, 17 July 2020   \n",
       "1   7:33  PM ET Fri, 17 July 2020   \n",
       "3   7:25  PM ET Fri, 17 July 2020   \n",
       "4   4:24  PM ET Fri, 17 July 2020   \n",
       "5   7:36  PM ET Thu, 16 July 2020   \n",
       "\n",
       "                                         Description  \n",
       "0  mad money host jim cramer recommend buy four c...  \n",
       "1  mad money host jim cramer ring lightn round be...  \n",
       "3  well pay earn noncovid compani lancet publish ...  \n",
       "4  keith bliss iq capit ceo join close bell talk ...  \n",
       "5  look stock highqual compani go lower even thou...  "
      ]
     },
     "execution_count": 33,
     "metadata": {},
     "output_type": "execute_result"
    }
   ],
   "source": [
    "new_df.head()"
   ]
  },
  {
   "cell_type": "code",
   "execution_count": 34,
   "metadata": {
    "execution": {
     "iopub.execute_input": "2022-08-24T06:03:32.735716Z",
     "iopub.status.busy": "2022-08-24T06:03:32.735383Z",
     "iopub.status.idle": "2022-08-24T06:03:46.008785Z",
     "shell.execute_reply": "2022-08-24T06:03:46.007639Z",
     "shell.execute_reply.started": "2022-08-24T06:03:32.735684Z"
    }
   },
   "outputs": [],
   "source": [
    "# analyze polarity score of values in description and  add new column of it in dataset\n",
    "ds_score=[]\n",
    "for value in new_df['Description'].values:\n",
    "    ds_score.append(sid.polarity_scores(value)['compound'])\n",
    "new_df['ds_score'] = ds_score\n"
   ]
  },
  {
   "cell_type": "code",
   "execution_count": 35,
   "metadata": {
    "execution": {
     "iopub.execute_input": "2022-08-24T06:03:46.010296Z",
     "iopub.status.busy": "2022-08-24T06:03:46.009969Z",
     "iopub.status.idle": "2022-08-24T06:03:46.025386Z",
     "shell.execute_reply": "2022-08-24T06:03:46.023845Z",
     "shell.execute_reply.started": "2022-08-24T06:03:46.010266Z"
    }
   },
   "outputs": [
    {
     "data": {
      "text/html": [
       "<div>\n",
       "<style scoped>\n",
       "    .dataframe tbody tr th:only-of-type {\n",
       "        vertical-align: middle;\n",
       "    }\n",
       "\n",
       "    .dataframe tbody tr th {\n",
       "        vertical-align: top;\n",
       "    }\n",
       "\n",
       "    .dataframe thead th {\n",
       "        text-align: right;\n",
       "    }\n",
       "</style>\n",
       "<table border=\"1\" class=\"dataframe\">\n",
       "  <thead>\n",
       "    <tr style=\"text-align: right;\">\n",
       "      <th></th>\n",
       "      <th>Headlines</th>\n",
       "      <th>Time</th>\n",
       "      <th>Description</th>\n",
       "      <th>ds_score</th>\n",
       "    </tr>\n",
       "  </thead>\n",
       "  <tbody>\n",
       "    <tr>\n",
       "      <th>0</th>\n",
       "      <td>Jim Cramer: A better way to invest in the Covi...</td>\n",
       "      <td>7:51  PM ET Fri, 17 July 2020</td>\n",
       "      <td>mad money host jim cramer recommend buy four c...</td>\n",
       "      <td>0.2500</td>\n",
       "    </tr>\n",
       "    <tr>\n",
       "      <th>1</th>\n",
       "      <td>Cramer's lightning round: I would own Teradyne</td>\n",
       "      <td>7:33  PM ET Fri, 17 July 2020</td>\n",
       "      <td>mad money host jim cramer ring lightn round be...</td>\n",
       "      <td>-0.4939</td>\n",
       "    </tr>\n",
       "    <tr>\n",
       "      <th>3</th>\n",
       "      <td>Cramer's week ahead: Big week for earnings, ev...</td>\n",
       "      <td>7:25  PM ET Fri, 17 July 2020</td>\n",
       "      <td>well pay earn noncovid compani lancet publish ...</td>\n",
       "      <td>0.5574</td>\n",
       "    </tr>\n",
       "    <tr>\n",
       "      <th>4</th>\n",
       "      <td>IQ Capital CEO Keith Bliss says tech and healt...</td>\n",
       "      <td>4:24  PM ET Fri, 17 July 2020</td>\n",
       "      <td>keith bliss iq capit ceo join close bell talk ...</td>\n",
       "      <td>0.7096</td>\n",
       "    </tr>\n",
       "    <tr>\n",
       "      <th>5</th>\n",
       "      <td>Wall Street delivered the 'kind of pullback I'...</td>\n",
       "      <td>7:36  PM ET Thu, 16 July 2020</td>\n",
       "      <td>look stock highqual compani go lower even thou...</td>\n",
       "      <td>-0.6597</td>\n",
       "    </tr>\n",
       "  </tbody>\n",
       "</table>\n",
       "</div>"
      ],
      "text/plain": [
       "                                           Headlines  \\\n",
       "0  Jim Cramer: A better way to invest in the Covi...   \n",
       "1     Cramer's lightning round: I would own Teradyne   \n",
       "3  Cramer's week ahead: Big week for earnings, ev...   \n",
       "4  IQ Capital CEO Keith Bliss says tech and healt...   \n",
       "5  Wall Street delivered the 'kind of pullback I'...   \n",
       "\n",
       "                             Time  \\\n",
       "0   7:51  PM ET Fri, 17 July 2020   \n",
       "1   7:33  PM ET Fri, 17 July 2020   \n",
       "3   7:25  PM ET Fri, 17 July 2020   \n",
       "4   4:24  PM ET Fri, 17 July 2020   \n",
       "5   7:36  PM ET Thu, 16 July 2020   \n",
       "\n",
       "                                         Description  ds_score  \n",
       "0  mad money host jim cramer recommend buy four c...    0.2500  \n",
       "1  mad money host jim cramer ring lightn round be...   -0.4939  \n",
       "3  well pay earn noncovid compani lancet publish ...    0.5574  \n",
       "4  keith bliss iq capit ceo join close bell talk ...    0.7096  \n",
       "5  look stock highqual compani go lower even thou...   -0.6597  "
      ]
     },
     "execution_count": 35,
     "metadata": {},
     "output_type": "execute_result"
    }
   ],
   "source": [
    "new_df.head()"
   ]
  },
  {
   "cell_type": "code",
   "execution_count": 36,
   "metadata": {
    "execution": {
     "iopub.execute_input": "2022-08-24T06:03:46.027455Z",
     "iopub.status.busy": "2022-08-24T06:03:46.026767Z",
     "iopub.status.idle": "2022-08-24T06:03:46.044725Z",
     "shell.execute_reply": "2022-08-24T06:03:46.043578Z",
     "shell.execute_reply.started": "2022-08-24T06:03:46.027410Z"
    }
   },
   "outputs": [],
   "source": [
    "new_df['sentiment']= new_df['ds_score'].apply(sentiment) "
   ]
  },
  {
   "cell_type": "code",
   "execution_count": 37,
   "metadata": {
    "execution": {
     "iopub.execute_input": "2022-08-24T06:03:46.046576Z",
     "iopub.status.busy": "2022-08-24T06:03:46.046102Z",
     "iopub.status.idle": "2022-08-24T06:03:46.060552Z",
     "shell.execute_reply": "2022-08-24T06:03:46.059397Z",
     "shell.execute_reply.started": "2022-08-24T06:03:46.046541Z"
    }
   },
   "outputs": [
    {
     "data": {
      "text/html": [
       "<div>\n",
       "<style scoped>\n",
       "    .dataframe tbody tr th:only-of-type {\n",
       "        vertical-align: middle;\n",
       "    }\n",
       "\n",
       "    .dataframe tbody tr th {\n",
       "        vertical-align: top;\n",
       "    }\n",
       "\n",
       "    .dataframe thead th {\n",
       "        text-align: right;\n",
       "    }\n",
       "</style>\n",
       "<table border=\"1\" class=\"dataframe\">\n",
       "  <thead>\n",
       "    <tr style=\"text-align: right;\">\n",
       "      <th></th>\n",
       "      <th>Headlines</th>\n",
       "      <th>Time</th>\n",
       "      <th>Description</th>\n",
       "      <th>ds_score</th>\n",
       "      <th>sentiment</th>\n",
       "    </tr>\n",
       "  </thead>\n",
       "  <tbody>\n",
       "    <tr>\n",
       "      <th>0</th>\n",
       "      <td>Jim Cramer: A better way to invest in the Covi...</td>\n",
       "      <td>7:51  PM ET Fri, 17 July 2020</td>\n",
       "      <td>mad money host jim cramer recommend buy four c...</td>\n",
       "      <td>0.2500</td>\n",
       "      <td>positive</td>\n",
       "    </tr>\n",
       "    <tr>\n",
       "      <th>1</th>\n",
       "      <td>Cramer's lightning round: I would own Teradyne</td>\n",
       "      <td>7:33  PM ET Fri, 17 July 2020</td>\n",
       "      <td>mad money host jim cramer ring lightn round be...</td>\n",
       "      <td>-0.4939</td>\n",
       "      <td>negative</td>\n",
       "    </tr>\n",
       "    <tr>\n",
       "      <th>3</th>\n",
       "      <td>Cramer's week ahead: Big week for earnings, ev...</td>\n",
       "      <td>7:25  PM ET Fri, 17 July 2020</td>\n",
       "      <td>well pay earn noncovid compani lancet publish ...</td>\n",
       "      <td>0.5574</td>\n",
       "      <td>positive</td>\n",
       "    </tr>\n",
       "    <tr>\n",
       "      <th>4</th>\n",
       "      <td>IQ Capital CEO Keith Bliss says tech and healt...</td>\n",
       "      <td>4:24  PM ET Fri, 17 July 2020</td>\n",
       "      <td>keith bliss iq capit ceo join close bell talk ...</td>\n",
       "      <td>0.7096</td>\n",
       "      <td>positive</td>\n",
       "    </tr>\n",
       "    <tr>\n",
       "      <th>5</th>\n",
       "      <td>Wall Street delivered the 'kind of pullback I'...</td>\n",
       "      <td>7:36  PM ET Thu, 16 July 2020</td>\n",
       "      <td>look stock highqual compani go lower even thou...</td>\n",
       "      <td>-0.6597</td>\n",
       "      <td>negative</td>\n",
       "    </tr>\n",
       "  </tbody>\n",
       "</table>\n",
       "</div>"
      ],
      "text/plain": [
       "                                           Headlines  \\\n",
       "0  Jim Cramer: A better way to invest in the Covi...   \n",
       "1     Cramer's lightning round: I would own Teradyne   \n",
       "3  Cramer's week ahead: Big week for earnings, ev...   \n",
       "4  IQ Capital CEO Keith Bliss says tech and healt...   \n",
       "5  Wall Street delivered the 'kind of pullback I'...   \n",
       "\n",
       "                             Time  \\\n",
       "0   7:51  PM ET Fri, 17 July 2020   \n",
       "1   7:33  PM ET Fri, 17 July 2020   \n",
       "3   7:25  PM ET Fri, 17 July 2020   \n",
       "4   4:24  PM ET Fri, 17 July 2020   \n",
       "5   7:36  PM ET Thu, 16 July 2020   \n",
       "\n",
       "                                         Description  ds_score sentiment  \n",
       "0  mad money host jim cramer recommend buy four c...    0.2500  positive  \n",
       "1  mad money host jim cramer ring lightn round be...   -0.4939  negative  \n",
       "3  well pay earn noncovid compani lancet publish ...    0.5574  positive  \n",
       "4  keith bliss iq capit ceo join close bell talk ...    0.7096  positive  \n",
       "5  look stock highqual compani go lower even thou...   -0.6597  negative  "
      ]
     },
     "execution_count": 37,
     "metadata": {},
     "output_type": "execute_result"
    }
   ],
   "source": [
    "new_df.head()"
   ]
  },
  {
   "cell_type": "code",
   "execution_count": 38,
   "metadata": {
    "execution": {
     "iopub.execute_input": "2022-08-24T06:03:46.062563Z",
     "iopub.status.busy": "2022-08-24T06:03:46.061884Z",
     "iopub.status.idle": "2022-08-24T06:03:46.075988Z",
     "shell.execute_reply": "2022-08-24T06:03:46.074692Z",
     "shell.execute_reply.started": "2022-08-24T06:03:46.062525Z"
    }
   },
   "outputs": [
    {
     "data": {
      "text/plain": [
       "positive    15101\n",
       "negative    12292\n",
       "neutral      8122\n",
       "Name: sentiment, dtype: int64"
      ]
     },
     "execution_count": 38,
     "metadata": {},
     "output_type": "execute_result"
    }
   ],
   "source": [
    "new_df['sentiment'].value_counts()"
   ]
  },
  {
   "cell_type": "code",
   "execution_count": 39,
   "metadata": {
    "execution": {
     "iopub.execute_input": "2022-08-24T06:03:46.079112Z",
     "iopub.status.busy": "2022-08-24T06:03:46.078662Z",
     "iopub.status.idle": "2022-08-24T06:03:46.158800Z",
     "shell.execute_reply": "2022-08-24T06:03:46.157595Z",
     "shell.execute_reply.started": "2022-08-24T06:03:46.079067Z"
    }
   },
   "outputs": [
    {
     "data": {
      "text/plain": [
       "<AxesSubplot:xlabel='sentiment', ylabel='count'>"
      ]
     },
     "execution_count": 39,
     "metadata": {},
     "output_type": "execute_result"
    }
   ],
   "source": [
    "plt.figure(figsize=(15,6))\n",
    "sns.countplot(new_df['sentiment'])"
   ]
  },
  {
   "cell_type": "code",
   "execution_count": 40,
   "metadata": {
    "execution": {
     "iopub.execute_input": "2022-08-24T06:03:46.161500Z",
     "iopub.status.busy": "2022-08-24T06:03:46.160324Z",
     "iopub.status.idle": "2022-08-24T06:03:46.195441Z",
     "shell.execute_reply": "2022-08-24T06:03:46.194483Z",
     "shell.execute_reply.started": "2022-08-24T06:03:46.161451Z"
    }
   },
   "outputs": [],
   "source": [
    "new_df['sentiment'].value_counts().plot(kind='bar')\n",
    "plt.show()"
   ]
  },
  {
   "cell_type": "code",
   "execution_count": 41,
   "metadata": {
    "execution": {
     "iopub.execute_input": "2022-08-24T06:03:46.198174Z",
     "iopub.status.busy": "2022-08-24T06:03:46.197324Z",
     "iopub.status.idle": "2022-08-24T06:03:46.220456Z",
     "shell.execute_reply": "2022-08-24T06:03:46.218979Z",
     "shell.execute_reply.started": "2022-08-24T06:03:46.198110Z"
    }
   },
   "outputs": [],
   "source": [
    "new_df['sentiment'].value_counts().plot(kind='pie',autopct = '%1.1f%%')\n",
    "plt.show()"
   ]
  },
  {
   "cell_type": "code",
   "execution_count": 42,
   "metadata": {
    "execution": {
     "iopub.execute_input": "2022-08-24T06:03:46.222896Z",
     "iopub.status.busy": "2022-08-24T06:03:46.221910Z",
     "iopub.status.idle": "2022-08-24T06:03:46.227846Z",
     "shell.execute_reply": "2022-08-24T06:03:46.226532Z",
     "shell.execute_reply.started": "2022-08-24T06:03:46.222855Z"
    }
   },
   "outputs": [],
   "source": [
    "x = new_df['Description']\n",
    "y = new_df['sentiment']"
   ]
  },
  {
   "cell_type": "code",
   "execution_count": 43,
   "metadata": {
    "execution": {
     "iopub.execute_input": "2022-08-24T06:03:46.229802Z",
     "iopub.status.busy": "2022-08-24T06:03:46.229316Z",
     "iopub.status.idle": "2022-08-24T06:03:46.248606Z",
     "shell.execute_reply": "2022-08-24T06:03:46.247056Z",
     "shell.execute_reply.started": "2022-08-24T06:03:46.229754Z"
    }
   },
   "outputs": [],
   "source": [
    "from sklearn.model_selection import train_test_split\n",
    "X_train,X_test,y_train,y_test = train_test_split(x,y, test_size = 0.1,random_state = 212)"
   ]
  },
  {
   "cell_type": "code",
   "execution_count": 44,
   "metadata": {
    "execution": {
     "iopub.execute_input": "2022-08-24T06:03:46.251985Z",
     "iopub.status.busy": "2022-08-24T06:03:46.250476Z",
     "iopub.status.idle": "2022-08-24T06:03:46.265871Z",
     "shell.execute_reply": "2022-08-24T06:03:46.264253Z",
     "shell.execute_reply.started": "2022-08-24T06:03:46.251943Z"
    }
   },
   "outputs": [
    {
     "data": {
      "text/plain": [
       "((31963,), (31963,), (3552,), (3552,))"
      ]
     },
     "execution_count": 44,
     "metadata": {},
     "output_type": "execute_result"
    }
   ],
   "source": [
    "X_train.shape ,y_train.shape,X_test.shape ,y_test.shape"
   ]
  },
  {
   "cell_type": "code",
   "execution_count": 45,
   "metadata": {
    "execution": {
     "iopub.execute_input": "2022-08-24T06:03:46.267978Z",
     "iopub.status.busy": "2022-08-24T06:03:46.267196Z",
     "iopub.status.idle": "2022-08-24T06:03:46.281724Z",
     "shell.execute_reply": "2022-08-24T06:03:46.280812Z",
     "shell.execute_reply.started": "2022-08-24T06:03:46.267940Z"
    }
   },
   "outputs": [
    {
     "name": "stdout",
     "output_type": "stream",
     "text": [
      "CPU times: total: 0 ns\n",
      "Wall time: 2 ms\n"
     ]
    }
   ],
   "source": [
    "%%time \n",
    "from sklearn.feature_extraction.text import TfidfVectorizer\n",
    "from sklearn.svm import LinearSVC\n",
    "from sklearn.pipeline import Pipeline\n",
    "from sklearn.metrics import accuracy_score, precision_score, recall_score, confusion_matrix, classification_report,f1_score\n",
    "from sklearn.feature_extraction.text import CountVectorizer, TfidfTransformer\n",
    "from sklearn.linear_model import LogisticRegression"
   ]
  },
  {
   "cell_type": "markdown",
   "metadata": {},
   "source": [
    "# LINEAR SUPPORT VECTOR MACHINE\n"
   ]
  },
  {
   "cell_type": "code",
   "execution_count": 46,
   "metadata": {
    "execution": {
     "iopub.execute_input": "2022-08-24T06:03:46.283830Z",
     "iopub.status.busy": "2022-08-24T06:03:46.283041Z",
     "iopub.status.idle": "2022-08-24T06:03:48.537474Z",
     "shell.execute_reply": "2022-08-24T06:03:48.536003Z",
     "shell.execute_reply.started": "2022-08-24T06:03:46.283761Z"
    }
   },
   "outputs": [
    {
     "name": "stdout",
     "output_type": "stream",
     "text": [
      "MODEL: LINEAR SVC\n",
      "accuarcy score:  0.9324324324324325\n",
      "Confusion matrix:  [[1122   46   71]\n",
      " [  24  757   23]\n",
      " [  46   30 1433]]\n",
      "              precision    recall  f1-score   support\n",
      "\n",
      "    negative       0.94      0.91      0.92      1239\n",
      "     neutral       0.91      0.94      0.92       804\n",
      "    positive       0.94      0.95      0.94      1509\n",
      "\n",
      "    accuracy                           0.93      3552\n",
      "   macro avg       0.93      0.93      0.93      3552\n",
      "weighted avg       0.93      0.93      0.93      3552\n",
      "\n",
      "CPU times: total: 1.47 s\n",
      "Wall time: 1.47 s\n"
     ]
    },
    {
     "data": {
      "text/plain": [
       "<AxesSubplot:>"
      ]
     },
     "execution_count": 46,
     "metadata": {},
     "output_type": "execute_result"
    }
   ],
   "source": [
    "%%time\n",
    "# creating a pipeline\n",
    "pipe_lsvm = Pipeline([('tfidf',TfidfVectorizer()),('model',LinearSVC())])\n",
    "# fit data into pipeline\n",
    "model_lsvm = pipe_lsvm.fit(X_train,y_train)\n",
    "\n",
    "# predict on test dataset\n",
    "prediction = model_lsvm.predict(X_test)\n",
    "\n",
    "print(\"MODEL: LINEAR SVC\")\n",
    "\n",
    "# print accuracy score\n",
    "print(\"accuarcy score: \", accuracy_score(y_test, prediction))\n",
    "\n",
    "#print confusion matrix\n",
    "print(\"Confusion matrix: \", confusion_matrix(y_test, prediction))\n",
    "\n",
    "#print classification report\n",
    "print(classification_report(y_test, prediction))\n",
    "\n",
    "# ploting the heatmap of confusion matrix\n",
    "sns.heatmap(confusion_matrix(y_test, prediction),annot = True,cmap ='Blues')"
   ]
  },
  {
   "cell_type": "markdown",
   "metadata": {},
   "source": [
    "# LOGISTIC REGRESSION"
   ]
  },
  {
   "cell_type": "code",
   "execution_count": 47,
   "metadata": {
    "execution": {
     "iopub.execute_input": "2022-08-24T06:03:48.541600Z",
     "iopub.status.busy": "2022-08-24T06:03:48.540217Z",
     "iopub.status.idle": "2022-08-24T06:03:57.060110Z",
     "shell.execute_reply": "2022-08-24T06:03:57.058855Z",
     "shell.execute_reply.started": "2022-08-24T06:03:48.541547Z"
    }
   },
   "outputs": [
    {
     "name": "stdout",
     "output_type": "stream",
     "text": [
      "MODEL: LOGISTIC REGRESSION\n",
      "accuarcy score:  0.8992117117117117\n",
      "Confusion matrix:  [[1071   70   98]\n",
      " [  37  733   34]\n",
      " [  70   49 1390]]\n",
      "              precision    recall  f1-score   support\n",
      "\n",
      "    negative       0.91      0.86      0.89      1239\n",
      "     neutral       0.86      0.91      0.89       804\n",
      "    positive       0.91      0.92      0.92      1509\n",
      "\n",
      "    accuracy                           0.90      3552\n",
      "   macro avg       0.89      0.90      0.90      3552\n",
      "weighted avg       0.90      0.90      0.90      3552\n",
      "\n",
      "CPU times: total: 9.28 s\n",
      "Wall time: 2.9 s\n"
     ]
    },
    {
     "data": {
      "text/plain": [
       "<AxesSubplot:>"
      ]
     },
     "execution_count": 47,
     "metadata": {},
     "output_type": "execute_result"
    }
   ],
   "source": [
    "%%time\n",
    "pipe_lr = Pipeline([('count_vec', CountVectorizer()),\n",
    "                      ('tfidf', TfidfTransformer()),\n",
    "                      ('log_reg', LogisticRegression())])\n",
    "\n",
    "model_lr =pipe_lr.fit(X_train, y_train)\n",
    "\n",
    "# predict on test dataset\n",
    "prediction = model_lr.predict(X_test)\n",
    "\n",
    "print(\"MODEL: LOGISTIC REGRESSION\")\n",
    "\n",
    "\n",
    "\n",
    "# print accuracy score\n",
    "print(\"accuarcy score: \", accuracy_score(y_test, prediction))\n",
    "\n",
    "#print confusion matrix\n",
    "print(\"Confusion matrix: \", confusion_matrix(y_test, prediction))\n",
    "\n",
    "#print classification report\n",
    "print(classification_report(y_test, prediction))\n",
    "\n",
    "# ploting the heatmap of confusion matrix\n",
    "sns.heatmap(confusion_matrix(y_test, prediction),annot = True,cmap ='Blues')"
   ]
  },
  {
   "cell_type": "markdown",
   "metadata": {},
   "source": [
    "# MULTINOMIAL NAIVE BAYES\n"
   ]
  },
  {
   "cell_type": "code",
   "execution_count": 48,
   "metadata": {
    "execution": {
     "iopub.execute_input": "2022-08-24T06:03:57.061805Z",
     "iopub.status.busy": "2022-08-24T06:03:57.061473Z",
     "iopub.status.idle": "2022-08-24T06:03:58.258697Z",
     "shell.execute_reply": "2022-08-24T06:03:58.257429Z",
     "shell.execute_reply.started": "2022-08-24T06:03:57.061766Z"
    }
   },
   "outputs": [
    {
     "name": "stdout",
     "output_type": "stream",
     "text": [
      "MODEL: MultiNomial Naive Bayes\n",
      "accuarcy score:  0.6396396396396397\n",
      "Confusion matrix:  [[ 806    8  425]\n",
      " [ 149   84  571]\n",
      " [ 122    5 1382]]\n",
      "              precision    recall  f1-score   support\n",
      "\n",
      "    negative       0.75      0.65      0.70      1239\n",
      "     neutral       0.87      0.10      0.19       804\n",
      "    positive       0.58      0.92      0.71      1509\n",
      "\n",
      "    accuracy                           0.64      3552\n",
      "   macro avg       0.73      0.56      0.53      3552\n",
      "weighted avg       0.70      0.64      0.59      3552\n",
      "\n",
      "CPU times: total: 844 ms\n",
      "Wall time: 852 ms\n"
     ]
    },
    {
     "data": {
      "text/plain": [
       "<AxesSubplot:>"
      ]
     },
     "execution_count": 48,
     "metadata": {},
     "output_type": "execute_result"
    }
   ],
   "source": [
    "%%time \n",
    "from sklearn.naive_bayes import MultinomialNB\n",
    "# creating a pipeline\n",
    "\n",
    "pipe_mnb = Pipeline([('count_vec', CountVectorizer()),\n",
    "                      ('tfidf', TfidfTransformer()),\n",
    "                      ('MNB', MultinomialNB())])\n",
    "# traing a model\n",
    "model_mnb = pipe_mnb.fit(X_train,y_train)\n",
    "# prediction\n",
    "prediction = model_mnb.predict(X_test)\n",
    "print(\"MODEL: MultiNomial Naive Bayes\")\n",
    "\n",
    "\n",
    "\n",
    "# print accuracy score\n",
    "print(\"accuarcy score: \", accuracy_score(y_test, prediction))\n",
    "\n",
    "#print confusion matrix\n",
    "print(\"Confusion matrix: \", confusion_matrix(y_test, prediction))\n",
    "\n",
    "#print classification report\n",
    "print(classification_report(y_test, prediction))\n",
    "\n",
    "# ploting the heatmap of confusion matrix\n",
    "sns.heatmap(confusion_matrix(y_test, prediction),annot = True,cmap ='Blues')\n"
   ]
  },
  {
   "cell_type": "markdown",
   "metadata": {},
   "source": [
    "# BERNOULLI NAIVE BAYES"
   ]
  },
  {
   "cell_type": "code",
   "execution_count": 49,
   "metadata": {
    "execution": {
     "iopub.execute_input": "2022-08-24T06:03:58.262143Z",
     "iopub.status.busy": "2022-08-24T06:03:58.261776Z",
     "iopub.status.idle": "2022-08-24T06:03:59.446569Z",
     "shell.execute_reply": "2022-08-24T06:03:59.445409Z",
     "shell.execute_reply.started": "2022-08-24T06:03:58.262111Z"
    }
   },
   "outputs": [
    {
     "name": "stdout",
     "output_type": "stream",
     "text": [
      "MODEL: Bernolli Naive Bayes\n",
      "accuarcy score:  0.7387387387387387\n",
      "Confusion matrix:  [[ 927   57  255]\n",
      " [ 139  474  191]\n",
      " [ 213   73 1223]]\n",
      "              precision    recall  f1-score   support\n",
      "\n",
      "    negative       0.72      0.75      0.74      1239\n",
      "     neutral       0.78      0.59      0.67       804\n",
      "    positive       0.73      0.81      0.77      1509\n",
      "\n",
      "    accuracy                           0.74      3552\n",
      "   macro avg       0.75      0.72      0.73      3552\n",
      "weighted avg       0.74      0.74      0.74      3552\n",
      "\n",
      "CPU times: total: 828 ms\n",
      "Wall time: 836 ms\n"
     ]
    },
    {
     "data": {
      "text/plain": [
       "<AxesSubplot:>"
      ]
     },
     "execution_count": 49,
     "metadata": {},
     "output_type": "execute_result"
    }
   ],
   "source": [
    "%%time\n",
    "from sklearn.naive_bayes import BernoulliNB\n",
    "pipe_mnb = Pipeline([('count_vec', CountVectorizer()),\n",
    "                      ('tfidf', TfidfTransformer()),\n",
    "                      ('BNB', BernoulliNB())])\n",
    "# traing a model\n",
    "model_mnb = pipe_mnb.fit(X_train,y_train)\n",
    "# prediction\n",
    "prediction = model_mnb.predict(X_test)\n",
    "print(\"MODEL: Bernolli Naive Bayes\")\n",
    "\n",
    "\n",
    "\n",
    "# print accuracy score\n",
    "print(\"accuarcy score: \", accuracy_score(y_test, prediction))\n",
    "\n",
    "#print confusion matrix\n",
    "print(\"Confusion matrix: \", confusion_matrix(y_test, prediction))\n",
    "\n",
    "#print classification report\n",
    "print(classification_report(y_test, prediction))\n",
    "\n",
    "# ploting the heatmap of confusion matrix\n",
    "sns.heatmap(confusion_matrix(y_test, prediction),annot = True,cmap ='Blues')\n"
   ]
  },
  {
   "cell_type": "markdown",
   "metadata": {},
   "source": [
    "# GradientBoostingClassifier"
   ]
  },
  {
   "cell_type": "code",
   "execution_count": 50,
   "metadata": {
    "execution": {
     "iopub.execute_input": "2022-08-24T06:03:59.448590Z",
     "iopub.status.busy": "2022-08-24T06:03:59.448104Z",
     "iopub.status.idle": "2022-08-24T06:05:27.278765Z",
     "shell.execute_reply": "2022-08-24T06:05:27.277644Z",
     "shell.execute_reply.started": "2022-08-24T06:03:59.448551Z"
    }
   },
   "outputs": [
    {
     "name": "stdout",
     "output_type": "stream",
     "text": [
      "MODEL: Gradient Boosting Classifer\n",
      "accuarcy score:  0.84375\n",
      "Confusion matrix:  [[ 917  151  171]\n",
      " [  11  782   11]\n",
      " [  65  146 1298]]\n",
      "              precision    recall  f1-score   support\n",
      "\n",
      "    negative       0.92      0.74      0.82      1239\n",
      "     neutral       0.72      0.97      0.83       804\n",
      "    positive       0.88      0.86      0.87      1509\n",
      "\n",
      "    accuracy                           0.84      3552\n",
      "   macro avg       0.84      0.86      0.84      3552\n",
      "weighted avg       0.86      0.84      0.84      3552\n",
      "\n",
      "CPU times: total: 59.8 s\n",
      "Wall time: 1min\n"
     ]
    },
    {
     "data": {
      "text/plain": [
       "<AxesSubplot:>"
      ]
     },
     "execution_count": 50,
     "metadata": {},
     "output_type": "execute_result"
    }
   ],
   "source": [
    "%%time\n",
    "# pipeline creation \n",
    "# 1. CountVectorizer\n",
    "# 2. TfidTransformer\n",
    "# 3. GradientBoostingClassifier\n",
    "\n",
    "from sklearn.ensemble import GradientBoostingClassifier\n",
    "\n",
    "\n",
    "# Fit the pipeline to the data\n",
    "pipe_mnb = Pipeline([('count_vec', CountVectorizer()),\n",
    "                      ('tfidf', TfidfTransformer()),\n",
    "                      ('grad_boost', GradientBoostingClassifier())])\n",
    "# traing a model\n",
    "model_mnb = pipe_mnb.fit(X_train,y_train)\n",
    "# prediction\n",
    "prediction = model_mnb.predict(X_test)\n",
    "print(\"MODEL: Gradient Boosting Classifer\")\n",
    "\n",
    "\n",
    "\n",
    "# print accuracy score\n",
    "print(\"accuarcy score: \", accuracy_score(y_test, prediction))\n",
    "\n",
    "#print confusion matrix\n",
    "print(\"Confusion matrix: \", confusion_matrix(y_test, prediction))\n",
    "\n",
    "#print classification report\n",
    "print(classification_report(y_test, prediction))\n",
    "\n",
    "# ploting the heatmap of confusion matrix\n",
    "sns.heatmap(confusion_matrix(y_test, prediction),annot = True,cmap ='Blues')\n"
   ]
  },
  {
   "cell_type": "markdown",
   "metadata": {},
   "source": [
    "# XGBOOST CLASSIFICATION MODEL"
   ]
  },
  {
   "cell_type": "code",
   "execution_count": 51,
   "metadata": {
    "execution": {
     "iopub.execute_input": "2022-08-24T06:05:27.280563Z",
     "iopub.status.busy": "2022-08-24T06:05:27.280216Z",
     "iopub.status.idle": "2022-08-24T06:06:11.092241Z",
     "shell.execute_reply": "2022-08-24T06:06:11.090742Z",
     "shell.execute_reply.started": "2022-08-24T06:05:27.280531Z"
    }
   },
   "outputs": [
    {
     "name": "stdout",
     "output_type": "stream",
     "text": [
      "MODEL: xgboost\n",
      "accuarcy score:  0.8890765765765766\n",
      "Confusion matrix:  [[1006  118  115]\n",
      " [  11  783   10]\n",
      " [  52   88 1369]]\n",
      "              precision    recall  f1-score   support\n",
      "\n",
      "           0       0.94      0.81      0.87      1239\n",
      "           1       0.79      0.97      0.87       804\n",
      "           2       0.92      0.91      0.91      1509\n",
      "\n",
      "    accuracy                           0.89      3552\n",
      "   macro avg       0.88      0.90      0.89      3552\n",
      "weighted avg       0.90      0.89      0.89      3552\n",
      "\n",
      "CPU times: total: 2min 33s\n",
      "Wall time: 20.5 s\n"
     ]
    },
    {
     "data": {
      "text/plain": [
       "<AxesSubplot:>"
      ]
     },
     "execution_count": 51,
     "metadata": {},
     "output_type": "execute_result"
    }
   ],
   "source": [
    "%%time\n",
    "# pipeline creation \n",
    "# 1. CountVectorizer\n",
    "# 2. TfidTransformer\n",
    "# 3. GradientBoostingClassifier\n",
    "\n",
    "from xgboost import XGBClassifier\n",
    "from sklearn.preprocessing import LabelEncoder\n",
    "\n",
    "\n",
    "# Fit the pipeline to the data\n",
    "xg_boost_ds = Pipeline([('count_vec', CountVectorizer()),\n",
    "                      ('tfidf', TfidfTransformer()),\n",
    "                      ('xgb', XGBClassifier())])\n",
    "\n",
    "encoder = LabelEncoder()\n",
    "enc_train = encoder.fit_transform(y_train)\n",
    "enc_test = encoder.fit_transform(y_test)\n",
    "\n",
    "xg_boost_ds.fit(X_train, enc_train)\n",
    "# prediction\n",
    "prediction = xg_boost_ds.predict(X_test)\n",
    "print(\"MODEL: xgboost\")\n",
    "\n",
    "\n",
    "\n",
    "# print accuracy score\n",
    "print(\"accuarcy score: \", accuracy_score(enc_test, prediction))\n",
    "\n",
    "#print confusion matrix\n",
    "print(\"Confusion matrix: \", confusion_matrix(enc_test, prediction))\n",
    "\n",
    "#print classification report\n",
    "print(classification_report(enc_test, prediction))\n",
    "\n",
    "# ploting the heatmap of confusion matrix\n",
    "sns.heatmap(confusion_matrix(enc_test, prediction),annot = True,cmap ='Blues')"
   ]
  },
  {
   "cell_type": "code",
   "execution_count": 97,
   "metadata": {
    "execution": {
     "iopub.execute_input": "2022-08-24T06:06:11.094052Z",
     "iopub.status.busy": "2022-08-24T06:06:11.093705Z",
     "iopub.status.idle": "2022-08-24T06:06:11.105472Z",
     "shell.execute_reply": "2022-08-24T06:06:11.103908Z",
     "shell.execute_reply.started": "2022-08-24T06:06:11.094020Z"
    }
   },
   "outputs": [],
   "source": [
    "# helper function for comparing models matric\n",
    "\n",
    "def metrics_comparison(model_objects, model_names, X_test, y_test, enc_test):\n",
    "    \n",
    "    # create a dataframe with column matric and metric name as value\n",
    "    metrics_df = pd.DataFrame(columns=['model_names','accuracy','precision','recall','f1_score'])\n",
    "    metrics_df['model_names'] = model_names\n",
    "   \n",
    "    # then predict on the test set\n",
    "    metrics_df['accuracy'] = [accuracy_score(y_test, model.predict(X_test)) if model != xg_boost_ds else accuracy_score(enc_test, model.predict(X_test)) for model in model_objects]\n",
    "    metrics_df['precision'] = [precision_score(y_test, model.predict(X_test),average='weighted') if model != xg_boost_ds else precision_score(enc_test, model.predict(X_test), average='weighted') for model in model_objects]\n",
    "    metrics_df['recall'] = [recall_score(y_test, model.predict(X_test),average='weighted') if model != xg_boost_ds else recall_score(enc_test, model.predict(X_test),average='weighted') for model in model_objects]\n",
    "    metrics_df['f1_score'] = [f1_score(y_test, model.predict(X_test),average='weighted') if model != xg_boost_ds else f1_score(enc_test, model.predict(X_test), average='weighted') for model in model_objects]\n",
    "    \n",
    "    return metrics_df"
   ]
  },
  {
   "cell_type": "code",
   "execution_count": 53,
   "metadata": {
    "execution": {
     "iopub.execute_input": "2022-08-24T06:06:11.108529Z",
     "iopub.status.busy": "2022-08-24T06:06:11.107060Z"
    }
   },
   "outputs": [
    {
     "data": {
      "text/html": [
       "<div>\n",
       "<style scoped>\n",
       "    .dataframe tbody tr th:only-of-type {\n",
       "        vertical-align: middle;\n",
       "    }\n",
       "\n",
       "    .dataframe tbody tr th {\n",
       "        vertical-align: top;\n",
       "    }\n",
       "\n",
       "    .dataframe thead th {\n",
       "        text-align: right;\n",
       "    }\n",
       "</style>\n",
       "<table border=\"1\" class=\"dataframe\">\n",
       "  <thead>\n",
       "    <tr style=\"text-align: right;\">\n",
       "      <th></th>\n",
       "      <th>model_names</th>\n",
       "      <th>accuracy</th>\n",
       "      <th>precision</th>\n",
       "      <th>recall</th>\n",
       "      <th>f1_score</th>\n",
       "    </tr>\n",
       "  </thead>\n",
       "  <tbody>\n",
       "    <tr>\n",
       "      <th>0</th>\n",
       "      <td>LinearSVC</td>\n",
       "      <td>0.932432</td>\n",
       "      <td>0.932712</td>\n",
       "      <td>0.932432</td>\n",
       "      <td>0.932372</td>\n",
       "    </tr>\n",
       "    <tr>\n",
       "      <th>1</th>\n",
       "      <td>LogRegression</td>\n",
       "      <td>0.899212</td>\n",
       "      <td>0.899857</td>\n",
       "      <td>0.899212</td>\n",
       "      <td>0.899162</td>\n",
       "    </tr>\n",
       "    <tr>\n",
       "      <th>2</th>\n",
       "      <td>MultinomialNB</td>\n",
       "      <td>0.843750</td>\n",
       "      <td>0.858756</td>\n",
       "      <td>0.843750</td>\n",
       "      <td>0.843596</td>\n",
       "    </tr>\n",
       "    <tr>\n",
       "      <th>3</th>\n",
       "      <td>BernoulliNB</td>\n",
       "      <td>0.843750</td>\n",
       "      <td>0.858756</td>\n",
       "      <td>0.843750</td>\n",
       "      <td>0.843596</td>\n",
       "    </tr>\n",
       "    <tr>\n",
       "      <th>4</th>\n",
       "      <td>GradientBoost</td>\n",
       "      <td>0.843750</td>\n",
       "      <td>0.858756</td>\n",
       "      <td>0.843750</td>\n",
       "      <td>0.843596</td>\n",
       "    </tr>\n",
       "    <tr>\n",
       "      <th>5</th>\n",
       "      <td>XGBoost</td>\n",
       "      <td>0.889077</td>\n",
       "      <td>0.896751</td>\n",
       "      <td>0.889077</td>\n",
       "      <td>0.889118</td>\n",
       "    </tr>\n",
       "  </tbody>\n",
       "</table>\n",
       "</div>"
      ],
      "text/plain": [
       "     model_names  accuracy  precision    recall  f1_score\n",
       "0      LinearSVC  0.932432   0.932712  0.932432  0.932372\n",
       "1  LogRegression  0.899212   0.899857  0.899212  0.899162\n",
       "2  MultinomialNB  0.843750   0.858756  0.843750  0.843596\n",
       "3    BernoulliNB  0.843750   0.858756  0.843750  0.843596\n",
       "4  GradientBoost  0.843750   0.858756  0.843750  0.843596\n",
       "5        XGBoost  0.889077   0.896751  0.889077  0.889118"
      ]
     },
     "execution_count": 53,
     "metadata": {},
     "output_type": "execute_result"
    }
   ],
   "source": [
    "# list of model objects\n",
    "model_objects = [model_lsvm, model_lr, model_mnb, model_mnb, model_mnb, xg_boost_ds]\n",
    "\n",
    "# list of model names\n",
    "model_names = ['LinearSVC', 'LogRegression','MultinomialNB','BernoulliNB','GradientBoost','XGBoost']\n",
    "\n",
    "# print the comparison of models\n",
    "met_df = metrics_comparison(model_objects,model_names, X_test, y_test, enc_test)\n",
    "met_df"
   ]
  },
  {
   "cell_type": "code",
   "execution_count": 54,
   "metadata": {},
   "outputs": [
    {
     "data": {
      "text/plain": [
       "array(['negative', 'neutral', 'positive', ..., 'positive', 'positive',\n",
       "       'positive'], dtype=object)"
      ]
     },
     "execution_count": 54,
     "metadata": {},
     "output_type": "execute_result"
    }
   ],
   "source": [
    "pred = model_lsvm.predict(X_test)\n",
    "pred"
   ]
  },
  {
   "cell_type": "code",
   "execution_count": 55,
   "metadata": {},
   "outputs": [],
   "source": [
    "pred = pd.DataFrame(pred, columns=['predictions'])"
   ]
  },
  {
   "cell_type": "code",
   "execution_count": 56,
   "metadata": {},
   "outputs": [
    {
     "data": {
      "text/html": [
       "<div>\n",
       "<style scoped>\n",
       "    .dataframe tbody tr th:only-of-type {\n",
       "        vertical-align: middle;\n",
       "    }\n",
       "\n",
       "    .dataframe tbody tr th {\n",
       "        vertical-align: top;\n",
       "    }\n",
       "\n",
       "    .dataframe thead th {\n",
       "        text-align: right;\n",
       "    }\n",
       "</style>\n",
       "<table border=\"1\" class=\"dataframe\">\n",
       "  <thead>\n",
       "    <tr style=\"text-align: right;\">\n",
       "      <th></th>\n",
       "      <th>predictions</th>\n",
       "    </tr>\n",
       "  </thead>\n",
       "  <tbody>\n",
       "    <tr>\n",
       "      <th>0</th>\n",
       "      <td>negative</td>\n",
       "    </tr>\n",
       "    <tr>\n",
       "      <th>1</th>\n",
       "      <td>neutral</td>\n",
       "    </tr>\n",
       "    <tr>\n",
       "      <th>2</th>\n",
       "      <td>positive</td>\n",
       "    </tr>\n",
       "    <tr>\n",
       "      <th>3</th>\n",
       "      <td>positive</td>\n",
       "    </tr>\n",
       "    <tr>\n",
       "      <th>4</th>\n",
       "      <td>negative</td>\n",
       "    </tr>\n",
       "  </tbody>\n",
       "</table>\n",
       "</div>"
      ],
      "text/plain": [
       "  predictions\n",
       "0    negative\n",
       "1     neutral\n",
       "2    positive\n",
       "3    positive\n",
       "4    negative"
      ]
     },
     "execution_count": 56,
     "metadata": {},
     "output_type": "execute_result"
    }
   ],
   "source": [
    "pred.head()"
   ]
  },
  {
   "cell_type": "markdown",
   "metadata": {},
   "source": [
    "# Now working with headlines + description"
   ]
  },
  {
   "cell_type": "code",
   "execution_count": 57,
   "metadata": {},
   "outputs": [
    {
     "data": {
      "text/html": [
       "<div>\n",
       "<style scoped>\n",
       "    .dataframe tbody tr th:only-of-type {\n",
       "        vertical-align: middle;\n",
       "    }\n",
       "\n",
       "    .dataframe tbody tr th {\n",
       "        vertical-align: top;\n",
       "    }\n",
       "\n",
       "    .dataframe thead th {\n",
       "        text-align: right;\n",
       "    }\n",
       "</style>\n",
       "<table border=\"1\" class=\"dataframe\">\n",
       "  <thead>\n",
       "    <tr style=\"text-align: right;\">\n",
       "      <th></th>\n",
       "      <th>Headlines</th>\n",
       "      <th>Time</th>\n",
       "      <th>Description</th>\n",
       "      <th>ds_score</th>\n",
       "      <th>sentiment</th>\n",
       "    </tr>\n",
       "  </thead>\n",
       "  <tbody>\n",
       "    <tr>\n",
       "      <th>0</th>\n",
       "      <td>Jim Cramer: A better way to invest in the Covi...</td>\n",
       "      <td>7:51  PM ET Fri, 17 July 2020</td>\n",
       "      <td>mad money host jim cramer recommend buy four c...</td>\n",
       "      <td>0.2500</td>\n",
       "      <td>positive</td>\n",
       "    </tr>\n",
       "    <tr>\n",
       "      <th>1</th>\n",
       "      <td>Cramer's lightning round: I would own Teradyne</td>\n",
       "      <td>7:33  PM ET Fri, 17 July 2020</td>\n",
       "      <td>mad money host jim cramer ring lightn round be...</td>\n",
       "      <td>-0.4939</td>\n",
       "      <td>negative</td>\n",
       "    </tr>\n",
       "    <tr>\n",
       "      <th>3</th>\n",
       "      <td>Cramer's week ahead: Big week for earnings, ev...</td>\n",
       "      <td>7:25  PM ET Fri, 17 July 2020</td>\n",
       "      <td>well pay earn noncovid compani lancet publish ...</td>\n",
       "      <td>0.5574</td>\n",
       "      <td>positive</td>\n",
       "    </tr>\n",
       "    <tr>\n",
       "      <th>4</th>\n",
       "      <td>IQ Capital CEO Keith Bliss says tech and healt...</td>\n",
       "      <td>4:24  PM ET Fri, 17 July 2020</td>\n",
       "      <td>keith bliss iq capit ceo join close bell talk ...</td>\n",
       "      <td>0.7096</td>\n",
       "      <td>positive</td>\n",
       "    </tr>\n",
       "    <tr>\n",
       "      <th>5</th>\n",
       "      <td>Wall Street delivered the 'kind of pullback I'...</td>\n",
       "      <td>7:36  PM ET Thu, 16 July 2020</td>\n",
       "      <td>look stock highqual compani go lower even thou...</td>\n",
       "      <td>-0.6597</td>\n",
       "      <td>negative</td>\n",
       "    </tr>\n",
       "    <tr>\n",
       "      <th>...</th>\n",
       "      <td>...</td>\n",
       "      <td>...</td>\n",
       "      <td>...</td>\n",
       "      <td>...</td>\n",
       "      <td>...</td>\n",
       "    </tr>\n",
       "    <tr>\n",
       "      <th>32765</th>\n",
       "      <td>Malaysia says never hired British data firm at...</td>\n",
       "      <td>Mar 20 2018</td>\n",
       "      <td>malaysian govern rule parti tuesday deni ever ...</td>\n",
       "      <td>0.0000</td>\n",
       "      <td>neutral</td>\n",
       "    </tr>\n",
       "    <tr>\n",
       "      <th>32766</th>\n",
       "      <td>Prosecutors search Volkswagen headquarters in ...</td>\n",
       "      <td>Mar 20 2018</td>\n",
       "      <td>german prosecutor say tuesday search volkswage...</td>\n",
       "      <td>0.0000</td>\n",
       "      <td>neutral</td>\n",
       "    </tr>\n",
       "    <tr>\n",
       "      <th>32767</th>\n",
       "      <td>McDonald's sets greenhouse gas reduction targets</td>\n",
       "      <td>Mar 20 2018</td>\n",
       "      <td>mcdonald corp tuesday announc approv scienc ba...</td>\n",
       "      <td>-0.2732</td>\n",
       "      <td>negative</td>\n",
       "    </tr>\n",
       "    <tr>\n",
       "      <th>32768</th>\n",
       "      <td>Pratt &amp; Whitney to deliver spare A320neo engin...</td>\n",
       "      <td>Mar 20 2018</td>\n",
       "      <td>pratt whitney soon begin deliveri spare engin ...</td>\n",
       "      <td>-0.3818</td>\n",
       "      <td>negative</td>\n",
       "    </tr>\n",
       "    <tr>\n",
       "      <th>32769</th>\n",
       "      <td>UK will always consider ways to improve data l...</td>\n",
       "      <td>Mar 20 2018</td>\n",
       "      <td>britain consid suggest give bodi charg uphold ...</td>\n",
       "      <td>0.3818</td>\n",
       "      <td>positive</td>\n",
       "    </tr>\n",
       "  </tbody>\n",
       "</table>\n",
       "<p>35515 rows × 5 columns</p>\n",
       "</div>"
      ],
      "text/plain": [
       "                                               Headlines  \\\n",
       "0      Jim Cramer: A better way to invest in the Covi...   \n",
       "1         Cramer's lightning round: I would own Teradyne   \n",
       "3      Cramer's week ahead: Big week for earnings, ev...   \n",
       "4      IQ Capital CEO Keith Bliss says tech and healt...   \n",
       "5      Wall Street delivered the 'kind of pullback I'...   \n",
       "...                                                  ...   \n",
       "32765  Malaysia says never hired British data firm at...   \n",
       "32766  Prosecutors search Volkswagen headquarters in ...   \n",
       "32767   McDonald's sets greenhouse gas reduction targets   \n",
       "32768  Pratt & Whitney to deliver spare A320neo engin...   \n",
       "32769  UK will always consider ways to improve data l...   \n",
       "\n",
       "                                 Time  \\\n",
       "0       7:51  PM ET Fri, 17 July 2020   \n",
       "1       7:33  PM ET Fri, 17 July 2020   \n",
       "3       7:25  PM ET Fri, 17 July 2020   \n",
       "4       4:24  PM ET Fri, 17 July 2020   \n",
       "5       7:36  PM ET Thu, 16 July 2020   \n",
       "...                               ...   \n",
       "32765                     Mar 20 2018   \n",
       "32766                     Mar 20 2018   \n",
       "32767                     Mar 20 2018   \n",
       "32768                     Mar 20 2018   \n",
       "32769                     Mar 20 2018   \n",
       "\n",
       "                                             Description  ds_score sentiment  \n",
       "0      mad money host jim cramer recommend buy four c...    0.2500  positive  \n",
       "1      mad money host jim cramer ring lightn round be...   -0.4939  negative  \n",
       "3      well pay earn noncovid compani lancet publish ...    0.5574  positive  \n",
       "4      keith bliss iq capit ceo join close bell talk ...    0.7096  positive  \n",
       "5      look stock highqual compani go lower even thou...   -0.6597  negative  \n",
       "...                                                  ...       ...       ...  \n",
       "32765  malaysian govern rule parti tuesday deni ever ...    0.0000   neutral  \n",
       "32766  german prosecutor say tuesday search volkswage...    0.0000   neutral  \n",
       "32767  mcdonald corp tuesday announc approv scienc ba...   -0.2732  negative  \n",
       "32768  pratt whitney soon begin deliveri spare engin ...   -0.3818  negative  \n",
       "32769  britain consid suggest give bodi charg uphold ...    0.3818  positive  \n",
       "\n",
       "[35515 rows x 5 columns]"
      ]
     },
     "execution_count": 57,
     "metadata": {},
     "output_type": "execute_result"
    }
   ],
   "source": [
    "new_df"
   ]
  },
  {
   "cell_type": "code",
   "execution_count": 60,
   "metadata": {},
   "outputs": [],
   "source": [
    "headline_df = new_df[['Headlines','Time']]"
   ]
  },
  {
   "cell_type": "code",
   "execution_count": 61,
   "metadata": {},
   "outputs": [
    {
     "data": {
      "text/html": [
       "<div>\n",
       "<style scoped>\n",
       "    .dataframe tbody tr th:only-of-type {\n",
       "        vertical-align: middle;\n",
       "    }\n",
       "\n",
       "    .dataframe tbody tr th {\n",
       "        vertical-align: top;\n",
       "    }\n",
       "\n",
       "    .dataframe thead th {\n",
       "        text-align: right;\n",
       "    }\n",
       "</style>\n",
       "<table border=\"1\" class=\"dataframe\">\n",
       "  <thead>\n",
       "    <tr style=\"text-align: right;\">\n",
       "      <th></th>\n",
       "      <th>Headlines</th>\n",
       "      <th>Time</th>\n",
       "    </tr>\n",
       "  </thead>\n",
       "  <tbody>\n",
       "    <tr>\n",
       "      <th>0</th>\n",
       "      <td>Jim Cramer: A better way to invest in the Covi...</td>\n",
       "      <td>7:51  PM ET Fri, 17 July 2020</td>\n",
       "    </tr>\n",
       "    <tr>\n",
       "      <th>1</th>\n",
       "      <td>Cramer's lightning round: I would own Teradyne</td>\n",
       "      <td>7:33  PM ET Fri, 17 July 2020</td>\n",
       "    </tr>\n",
       "    <tr>\n",
       "      <th>3</th>\n",
       "      <td>Cramer's week ahead: Big week for earnings, ev...</td>\n",
       "      <td>7:25  PM ET Fri, 17 July 2020</td>\n",
       "    </tr>\n",
       "    <tr>\n",
       "      <th>4</th>\n",
       "      <td>IQ Capital CEO Keith Bliss says tech and healt...</td>\n",
       "      <td>4:24  PM ET Fri, 17 July 2020</td>\n",
       "    </tr>\n",
       "    <tr>\n",
       "      <th>5</th>\n",
       "      <td>Wall Street delivered the 'kind of pullback I'...</td>\n",
       "      <td>7:36  PM ET Thu, 16 July 2020</td>\n",
       "    </tr>\n",
       "  </tbody>\n",
       "</table>\n",
       "</div>"
      ],
      "text/plain": [
       "                                           Headlines  \\\n",
       "0  Jim Cramer: A better way to invest in the Covi...   \n",
       "1     Cramer's lightning round: I would own Teradyne   \n",
       "3  Cramer's week ahead: Big week for earnings, ev...   \n",
       "4  IQ Capital CEO Keith Bliss says tech and healt...   \n",
       "5  Wall Street delivered the 'kind of pullback I'...   \n",
       "\n",
       "                             Time  \n",
       "0   7:51  PM ET Fri, 17 July 2020  \n",
       "1   7:33  PM ET Fri, 17 July 2020  \n",
       "3   7:25  PM ET Fri, 17 July 2020  \n",
       "4   4:24  PM ET Fri, 17 July 2020  \n",
       "5   7:36  PM ET Thu, 16 July 2020  "
      ]
     },
     "execution_count": 61,
     "metadata": {},
     "output_type": "execute_result"
    }
   ],
   "source": [
    "headline_df.head()"
   ]
  },
  {
   "cell_type": "code",
   "execution_count": 63,
   "metadata": {},
   "outputs": [],
   "source": [
    "# apply preprocessing in headline \n",
    "headline_df['Headlines']=headline_df['Headlines'].apply(textpreprocessing)"
   ]
  },
  {
   "cell_type": "code",
   "execution_count": 65,
   "metadata": {},
   "outputs": [],
   "source": [
    "ds_score=[]\n",
    "for value in headline_df['Headlines'].values:\n",
    "    ds_score.append(sid.polarity_scores(value)['compound'])\n",
    "headline_df['ds_score'] = ds_score"
   ]
  },
  {
   "cell_type": "code",
   "execution_count": 68,
   "metadata": {
    "scrolled": true
   },
   "outputs": [
    {
     "data": {
      "text/html": [
       "<div>\n",
       "<style scoped>\n",
       "    .dataframe tbody tr th:only-of-type {\n",
       "        vertical-align: middle;\n",
       "    }\n",
       "\n",
       "    .dataframe tbody tr th {\n",
       "        vertical-align: top;\n",
       "    }\n",
       "\n",
       "    .dataframe thead th {\n",
       "        text-align: right;\n",
       "    }\n",
       "</style>\n",
       "<table border=\"1\" class=\"dataframe\">\n",
       "  <thead>\n",
       "    <tr style=\"text-align: right;\">\n",
       "      <th></th>\n",
       "      <th>Headlines</th>\n",
       "      <th>Time</th>\n",
       "      <th>ds_score</th>\n",
       "      <th>sentiment</th>\n",
       "    </tr>\n",
       "  </thead>\n",
       "  <tbody>\n",
       "    <tr>\n",
       "      <th>0</th>\n",
       "      <td>jim cramer better way invest covid19 vaccin go...</td>\n",
       "      <td>7:51  PM ET Fri, 17 July 2020</td>\n",
       "      <td>0.4404</td>\n",
       "      <td>positive</td>\n",
       "    </tr>\n",
       "    <tr>\n",
       "      <th>1</th>\n",
       "      <td>cramer lightn round would teradyn</td>\n",
       "      <td>7:33  PM ET Fri, 17 July 2020</td>\n",
       "      <td>0.0000</td>\n",
       "      <td>neutral</td>\n",
       "    </tr>\n",
       "    <tr>\n",
       "      <th>3</th>\n",
       "      <td>cramer week ahead big week earn even bigger we...</td>\n",
       "      <td>7:25  PM ET Fri, 17 July 2020</td>\n",
       "      <td>0.0000</td>\n",
       "      <td>neutral</td>\n",
       "    </tr>\n",
       "    <tr>\n",
       "      <th>4</th>\n",
       "      <td>iq capit ceo keith bliss say tech healthcar ralli</td>\n",
       "      <td>4:24  PM ET Fri, 17 July 2020</td>\n",
       "      <td>0.5719</td>\n",
       "      <td>positive</td>\n",
       "    </tr>\n",
       "    <tr>\n",
       "      <th>5</th>\n",
       "      <td>wall street deliv kind pullback ive wait jim c...</td>\n",
       "      <td>7:36  PM ET Thu, 16 July 2020</td>\n",
       "      <td>0.5267</td>\n",
       "      <td>positive</td>\n",
       "    </tr>\n",
       "  </tbody>\n",
       "</table>\n",
       "</div>"
      ],
      "text/plain": [
       "                                           Headlines  \\\n",
       "0  jim cramer better way invest covid19 vaccin go...   \n",
       "1                  cramer lightn round would teradyn   \n",
       "3  cramer week ahead big week earn even bigger we...   \n",
       "4  iq capit ceo keith bliss say tech healthcar ralli   \n",
       "5  wall street deliv kind pullback ive wait jim c...   \n",
       "\n",
       "                             Time  ds_score sentiment  \n",
       "0   7:51  PM ET Fri, 17 July 2020    0.4404  positive  \n",
       "1   7:33  PM ET Fri, 17 July 2020    0.0000   neutral  \n",
       "3   7:25  PM ET Fri, 17 July 2020    0.0000   neutral  \n",
       "4   4:24  PM ET Fri, 17 July 2020    0.5719  positive  \n",
       "5   7:36  PM ET Thu, 16 July 2020    0.5267  positive  "
      ]
     },
     "execution_count": 68,
     "metadata": {},
     "output_type": "execute_result"
    }
   ],
   "source": [
    "headline_df.head()"
   ]
  },
  {
   "cell_type": "code",
   "execution_count": 78,
   "metadata": {},
   "outputs": [
    {
     "data": {
      "text/plain": [
       "(35515, 4)"
      ]
     },
     "execution_count": 78,
     "metadata": {},
     "output_type": "execute_result"
    }
   ],
   "source": [
    "headline_df.shape"
   ]
  },
  {
   "cell_type": "code",
   "execution_count": 67,
   "metadata": {},
   "outputs": [],
   "source": [
    "headline_df['sentiment']= headline_df['ds_score'].apply(sentiment) "
   ]
  },
  {
   "cell_type": "code",
   "execution_count": 69,
   "metadata": {},
   "outputs": [
    {
     "data": {
      "text/plain": [
       "neutral     16457\n",
       "negative     9922\n",
       "positive     9136\n",
       "Name: sentiment, dtype: int64"
      ]
     },
     "execution_count": 69,
     "metadata": {},
     "output_type": "execute_result"
    }
   ],
   "source": [
    "headline_df['sentiment'].value_counts()"
   ]
  },
  {
   "cell_type": "code",
   "execution_count": 71,
   "metadata": {},
   "outputs": [],
   "source": [
    "headline_df['sentiment'].value_counts().plot(kind='bar')\n",
    "plt.show()"
   ]
  },
  {
   "cell_type": "code",
   "execution_count": 72,
   "metadata": {},
   "outputs": [],
   "source": [
    "headline_df['sentiment'].value_counts().plot(kind='pie',autopct = '%1.1f%%')\n",
    "plt.show()"
   ]
  },
  {
   "cell_type": "code",
   "execution_count": 80,
   "metadata": {},
   "outputs": [],
   "source": [
    "X=headline_df['Headlines']\n",
    "Y=headline_df['sentiment']"
   ]
  },
  {
   "cell_type": "code",
   "execution_count": 84,
   "metadata": {},
   "outputs": [],
   "source": [
    "from sklearn.model_selection import train_test_split\n",
    "X_train_head,X_test_head,y_train_head,y_test_head = train_test_split(X,Y, test_size = 0.1,random_state = 212)"
   ]
  },
  {
   "cell_type": "code",
   "execution_count": null,
   "metadata": {},
   "outputs": [],
   "source": [
    "X_train_head.shape ,y_train_head.shape,X_test_head.shape ,y_test_head.shape"
   ]
  },
  {
   "cell_type": "markdown",
   "metadata": {},
   "source": [
    "# LINEAR SUPPORT VECTOR MACHINE"
   ]
  },
  {
   "cell_type": "code",
   "execution_count": 121,
   "metadata": {},
   "outputs": [
    {
     "name": "stdout",
     "output_type": "stream",
     "text": [
      "MODEL: LINEAR SVC\n",
      "accuarcy score:  0.9715653153153153\n",
      "Confusion matrix:  [[ 922   18   33]\n",
      " [   3 1661    3]\n",
      " [  27   17  868]]\n",
      "              precision    recall  f1-score   support\n",
      "\n",
      "    negative       0.97      0.95      0.96       973\n",
      "     neutral       0.98      1.00      0.99      1667\n",
      "    positive       0.96      0.95      0.96       912\n",
      "\n",
      "    accuracy                           0.97      3552\n",
      "   macro avg       0.97      0.97      0.97      3552\n",
      "weighted avg       0.97      0.97      0.97      3552\n",
      "\n",
      "CPU times: total: 797 ms\n",
      "Wall time: 791 ms\n"
     ]
    },
    {
     "data": {
      "text/plain": [
       "<AxesSubplot:>"
      ]
     },
     "execution_count": 121,
     "metadata": {},
     "output_type": "execute_result"
    }
   ],
   "source": [
    "%%time\n",
    "# creating a pipeline\n",
    "pipe_lsvm = Pipeline([('tfidf',TfidfVectorizer()),('model',LinearSVC())])\n",
    "# fit data into pipeline\n",
    "model_lsvm_head = pipe_lsvm.fit(X_train_head,y_train_head)\n",
    "\n",
    "# predict on test dataset\n",
    "prediction = model_lsvm.predict(X_test_head)\n",
    "\n",
    "print(\"MODEL: LINEAR SVC\")\n",
    "\n",
    "# print accuracy score\n",
    "print(\"accuarcy score: \", accuracy_score(y_test_head, prediction))\n",
    "\n",
    "#print confusion matrix\n",
    "print(\"Confusion matrix: \", confusion_matrix(y_test_head, prediction))\n",
    "\n",
    "#print classification report\n",
    "print(classification_report(y_test_head, prediction))\n",
    "\n",
    "# ploting the heatmap of confusion matrix\n",
    "sns.heatmap(confusion_matrix(y_test_head, prediction),annot = True,cmap ='Blues')"
   ]
  },
  {
   "cell_type": "markdown",
   "metadata": {},
   "source": [
    "# Logistic regression"
   ]
  },
  {
   "cell_type": "code",
   "execution_count": 87,
   "metadata": {},
   "outputs": [
    {
     "name": "stdout",
     "output_type": "stream",
     "text": [
      "MODEL: LOGISTIC REGRESSION\n",
      "accuarcy score:  0.9358108108108109\n",
      "Confusion matrix:  [[ 856   78   39]\n",
      " [   2 1662    3]\n",
      " [  41   65  806]]\n",
      "              precision    recall  f1-score   support\n",
      "\n",
      "    negative       0.95      0.88      0.91       973\n",
      "     neutral       0.92      1.00      0.96      1667\n",
      "    positive       0.95      0.88      0.92       912\n",
      "\n",
      "    accuracy                           0.94      3552\n",
      "   macro avg       0.94      0.92      0.93      3552\n",
      "weighted avg       0.94      0.94      0.93      3552\n",
      "\n",
      "CPU times: total: 6.12 s\n",
      "Wall time: 1.99 s\n"
     ]
    },
    {
     "data": {
      "text/plain": [
       "<AxesSubplot:>"
      ]
     },
     "execution_count": 87,
     "metadata": {},
     "output_type": "execute_result"
    }
   ],
   "source": [
    "%%time\n",
    "pipe_lr = Pipeline([('count_vec', CountVectorizer()),\n",
    "                      ('tfidf', TfidfTransformer()),\n",
    "                      ('log_reg', LogisticRegression())])\n",
    "\n",
    "model_lr =pipe_lr.fit(X_train_head, y_train_head)\n",
    "\n",
    "# predict on test dataset\n",
    "prediction = model_lr.predict(X_test_head)\n",
    "\n",
    "print(\"MODEL: LOGISTIC REGRESSION\")\n",
    "\n",
    "\n",
    "\n",
    "# print accuracy score\n",
    "print(\"accuarcy score: \", accuracy_score(y_test_head, prediction))\n",
    "\n",
    "#print confusion matrix\n",
    "print(\"Confusion matrix: \", confusion_matrix(y_test_head, prediction))\n",
    "\n",
    "#print classification report\n",
    "print(classification_report(y_test_head, prediction))\n",
    "\n",
    "# ploting the heatmap of confusion matrix\n",
    "sns.heatmap(confusion_matrix(y_test_head, prediction),annot = True,cmap ='Blues')"
   ]
  },
  {
   "cell_type": "markdown",
   "metadata": {},
   "source": [
    "# MULTINOMIAL NAIVE BAYES"
   ]
  },
  {
   "cell_type": "code",
   "execution_count": 89,
   "metadata": {},
   "outputs": [
    {
     "name": "stdout",
     "output_type": "stream",
     "text": [
      "MODEL: MultiNomial Naive Bayes\n",
      "accuarcy score:  0.8409346846846847\n",
      "Confusion matrix:  [[ 758  160   55]\n",
      " [  32 1606   29]\n",
      " [  85  204  623]]\n",
      "              precision    recall  f1-score   support\n",
      "\n",
      "    negative       0.87      0.78      0.82       973\n",
      "     neutral       0.82      0.96      0.88      1667\n",
      "    positive       0.88      0.68      0.77       912\n",
      "\n",
      "    accuracy                           0.84      3552\n",
      "   macro avg       0.85      0.81      0.82      3552\n",
      "weighted avg       0.85      0.84      0.84      3552\n",
      "\n",
      "CPU times: total: 484 ms\n",
      "Wall time: 472 ms\n"
     ]
    },
    {
     "data": {
      "text/plain": [
       "<AxesSubplot:>"
      ]
     },
     "execution_count": 89,
     "metadata": {},
     "output_type": "execute_result"
    }
   ],
   "source": [
    "%%time \n",
    "from sklearn.naive_bayes import MultinomialNB\n",
    "# creating a pipeline\n",
    "\n",
    "pipe_mnb = Pipeline([('count_vec', CountVectorizer()),\n",
    "                      ('tfidf', TfidfTransformer()),\n",
    "                      ('MNB', MultinomialNB())])\n",
    "# traing a model\n",
    "model_mnb = pipe_mnb.fit(X_train_head,y_train_head)\n",
    "# prediction\n",
    "prediction = model_mnb.predict(X_test_head)\n",
    "print(\"MODEL: MultiNomial Naive Bayes\")\n",
    "\n",
    "\n",
    "\n",
    "# print accuracy score\n",
    "print(\"accuarcy score: \", accuracy_score(y_test_head, prediction))\n",
    "\n",
    "#print confusion matrix\n",
    "print(\"Confusion matrix: \", confusion_matrix(y_test_head, prediction))\n",
    "\n",
    "#print classification report\n",
    "print(classification_report(y_test_head, prediction))\n",
    "\n",
    "# ploting the heatmap of confusion matrix\n",
    "sns.heatmap(confusion_matrix(y_test_head, prediction),annot = True,cmap ='Blues')"
   ]
  },
  {
   "cell_type": "markdown",
   "metadata": {},
   "source": [
    "# BERNOULLI NAIVE BAYES"
   ]
  },
  {
   "cell_type": "code",
   "execution_count": 90,
   "metadata": {},
   "outputs": [
    {
     "name": "stdout",
     "output_type": "stream",
     "text": [
      "MODEL: Bernolli Naive Bayes\n",
      "accuarcy score:  0.8716216216216216\n",
      "Confusion matrix:  [[ 844   50   79]\n",
      " [ 104 1479   84]\n",
      " [  98   41  773]]\n",
      "              precision    recall  f1-score   support\n",
      "\n",
      "    negative       0.81      0.87      0.84       973\n",
      "     neutral       0.94      0.89      0.91      1667\n",
      "    positive       0.83      0.85      0.84       912\n",
      "\n",
      "    accuracy                           0.87      3552\n",
      "   macro avg       0.86      0.87      0.86      3552\n",
      "weighted avg       0.88      0.87      0.87      3552\n",
      "\n",
      "CPU times: total: 500 ms\n",
      "Wall time: 511 ms\n"
     ]
    },
    {
     "data": {
      "text/plain": [
       "<AxesSubplot:>"
      ]
     },
     "execution_count": 90,
     "metadata": {},
     "output_type": "execute_result"
    }
   ],
   "source": [
    "%%time\n",
    "from sklearn.naive_bayes import BernoulliNB\n",
    "pipe_mnb = Pipeline([('count_vec', CountVectorizer()),\n",
    "                      ('tfidf', TfidfTransformer()),\n",
    "                      ('BNB', BernoulliNB())])\n",
    "# traing a model\n",
    "model_mnb = pipe_mnb.fit(X_train_head,y_train_head)\n",
    "# prediction\n",
    "prediction = model_mnb.predict(X_test_head)\n",
    "print(\"MODEL: Bernolli Naive Bayes\")\n",
    "\n",
    "\n",
    "\n",
    "# print accuracy score\n",
    "print(\"accuarcy score: \", accuracy_score(y_test_head, prediction))\n",
    "\n",
    "#print confusion matrix\n",
    "print(\"Confusion matrix: \", confusion_matrix(y_test_head, prediction))\n",
    "\n",
    "#print classification report\n",
    "print(classification_report(y_test_head, prediction))\n",
    "\n",
    "# ploting the heatmap of confusion matrix\n",
    "sns.heatmap(confusion_matrix(y_test_head, prediction),annot = True,cmap ='Blues')\n"
   ]
  },
  {
   "cell_type": "markdown",
   "metadata": {},
   "source": [
    "# GradientBoostingClassifier"
   ]
  },
  {
   "cell_type": "code",
   "execution_count": 91,
   "metadata": {},
   "outputs": [
    {
     "name": "stdout",
     "output_type": "stream",
     "text": [
      "MODEL: Gradient Boosting Classifer\n",
      "accuarcy score:  0.8333333333333334\n",
      "Confusion matrix:  [[ 663  260   50]\n",
      " [   2 1663    2]\n",
      " [  38  240  634]]\n",
      "              precision    recall  f1-score   support\n",
      "\n",
      "    negative       0.94      0.68      0.79       973\n",
      "     neutral       0.77      1.00      0.87      1667\n",
      "    positive       0.92      0.70      0.79       912\n",
      "\n",
      "    accuracy                           0.83      3552\n",
      "   macro avg       0.88      0.79      0.82      3552\n",
      "weighted avg       0.86      0.83      0.83      3552\n",
      "\n",
      "CPU times: total: 21.1 s\n",
      "Wall time: 21.1 s\n"
     ]
    },
    {
     "data": {
      "text/plain": [
       "<AxesSubplot:>"
      ]
     },
     "execution_count": 91,
     "metadata": {},
     "output_type": "execute_result"
    }
   ],
   "source": [
    "%%time\n",
    "# pipeline creation \n",
    "# 1. CountVectorizer\n",
    "# 2. TfidTransformer\n",
    "# 3. GradientBoostingClassifier\n",
    "\n",
    "from sklearn.ensemble import GradientBoostingClassifier\n",
    "\n",
    "\n",
    "# Fit the pipeline to the data\n",
    "pipe_mnb = Pipeline([('count_vec', CountVectorizer()),\n",
    "                      ('tfidf', TfidfTransformer()),\n",
    "                      ('grad_boost', GradientBoostingClassifier())])\n",
    "# traing a model\n",
    "model_mnb = pipe_mnb.fit(X_train_head,y_train_head)\n",
    "# prediction\n",
    "prediction = model_mnb.predict(X_test_head)\n",
    "print(\"MODEL: Gradient Boosting Classifer\")\n",
    "\n",
    "\n",
    "\n",
    "# print accuracy score\n",
    "print(\"accuarcy score: \", accuracy_score(y_test_head, prediction))\n",
    "\n",
    "#print confusion matrix\n",
    "print(\"Confusion matrix: \", confusion_matrix(y_test_head, prediction))\n",
    "\n",
    "#print classification report\n",
    "print(classification_report(y_test_head, prediction))\n",
    "\n",
    "# ploting the heatmap of confusion matrix\n",
    "sns.heatmap(confusion_matrix(y_test_head, prediction),annot = True,cmap ='Blues')\n"
   ]
  },
  {
   "cell_type": "markdown",
   "metadata": {},
   "source": [
    "# XGBOOST CLASSIFICATION MODEL"
   ]
  },
  {
   "cell_type": "code",
   "execution_count": 92,
   "metadata": {},
   "outputs": [
    {
     "name": "stdout",
     "output_type": "stream",
     "text": [
      "MODEL: xgboost\n",
      "accuarcy score:  0.918918918918919\n",
      "Confusion matrix:  [[ 817  126   30]\n",
      " [   1 1663    3]\n",
      " [  28  100  784]]\n",
      "              precision    recall  f1-score   support\n",
      "\n",
      "           0       0.97      0.84      0.90       973\n",
      "           1       0.88      1.00      0.94      1667\n",
      "           2       0.96      0.86      0.91       912\n",
      "\n",
      "    accuracy                           0.92      3552\n",
      "   macro avg       0.94      0.90      0.91      3552\n",
      "weighted avg       0.92      0.92      0.92      3552\n",
      "\n",
      "CPU times: total: 1min 9s\n",
      "Wall time: 9.75 s\n"
     ]
    },
    {
     "data": {
      "text/plain": [
       "<AxesSubplot:>"
      ]
     },
     "execution_count": 92,
     "metadata": {},
     "output_type": "execute_result"
    }
   ],
   "source": [
    "%%time\n",
    "# pipeline creation \n",
    "# 1. CountVectorizer\n",
    "# 2. TfidTransformer\n",
    "# 3. GradientBoostingClassifier\n",
    "\n",
    "from xgboost import XGBClassifier\n",
    "from sklearn.preprocessing import LabelEncoder\n",
    "\n",
    "\n",
    "# Fit the pipeline to the data\n",
    "xg_boost_ds = Pipeline([('count_vec', CountVectorizer()),\n",
    "                      ('tfidf', TfidfTransformer()),\n",
    "                      ('xgb', XGBClassifier())])\n",
    "\n",
    "encoder = LabelEncoder()\n",
    "enc_train = encoder.fit_transform(y_train_head)\n",
    "enc_test = encoder.fit_transform(y_test_head)\n",
    "\n",
    "xg_boost_ds.fit(X_train_head, enc_train)\n",
    "# prediction\n",
    "prediction = xg_boost_ds.predict(X_test_head)\n",
    "print(\"MODEL: xgboost\")\n",
    "\n",
    "\n",
    "\n",
    "# print accuracy score\n",
    "print(\"accuarcy score: \", accuracy_score(enc_test, prediction))\n",
    "\n",
    "#print confusion matrix\n",
    "print(\"Confusion matrix: \", confusion_matrix(enc_test, prediction))\n",
    "\n",
    "#print classification report\n",
    "print(classification_report(enc_test, prediction))\n",
    "\n",
    "# ploting the heatmap of confusion matrix\n",
    "sns.heatmap(confusion_matrix(enc_test, prediction),annot = True,cmap ='Blues')"
   ]
  },
  {
   "cell_type": "code",
   "execution_count": 100,
   "metadata": {},
   "outputs": [],
   "source": [
    "# helper function for comparing models matric\n",
    "\n",
    "def metrics_comparison(model_objects, model_names, X_test_head, y_test_head, enc_test):\n",
    "    \n",
    "    # create a dataframe with column matric and metric name as value\n",
    "    metrics_df = pd.DataFrame(columns=['model_names','accuracy','precision','recall','f1_score'])\n",
    "    metrics_df['model_names'] = model_names\n",
    "   \n",
    "    # then predict on the test set\n",
    "    metrics_df['accuracy'] = [accuracy_score(y_test_head, model.predict(X_test_head)) if model != xg_boost_ds else accuracy_score(enc_test, model.predict(X_test_head)) for model in model_objects]\n",
    "    metrics_df['precision'] = [precision_score(y_test_head, model.predict(X_test_head),average='weighted') if model != xg_boost_ds else precision_score(enc_test, model.predict(X_test_head), average='weighted') for model in model_objects]\n",
    "    metrics_df['recall'] = [recall_score(y_test_head, model.predict(X_test_head),average='weighted') if model != xg_boost_ds else recall_score(enc_test, model.predict(X_test_head),average='weighted') for model in model_objects]\n",
    "    metrics_df['f1_score'] = [f1_score(y_test_head, model.predict(X_test_head),average='weighted') if model != xg_boost_ds else f1_score(enc_test, model.predict(X_test_head), average='weighted') for model in model_objects]\n",
    "    \n",
    "    return metrics_df"
   ]
  },
  {
   "cell_type": "code",
   "execution_count": 122,
   "metadata": {},
   "outputs": [
    {
     "data": {
      "text/html": [
       "<div>\n",
       "<style scoped>\n",
       "    .dataframe tbody tr th:only-of-type {\n",
       "        vertical-align: middle;\n",
       "    }\n",
       "\n",
       "    .dataframe tbody tr th {\n",
       "        vertical-align: top;\n",
       "    }\n",
       "\n",
       "    .dataframe thead th {\n",
       "        text-align: right;\n",
       "    }\n",
       "</style>\n",
       "<table border=\"1\" class=\"dataframe\">\n",
       "  <thead>\n",
       "    <tr style=\"text-align: right;\">\n",
       "      <th></th>\n",
       "      <th>model_names</th>\n",
       "      <th>accuracy</th>\n",
       "      <th>precision</th>\n",
       "      <th>recall</th>\n",
       "      <th>f1_score</th>\n",
       "    </tr>\n",
       "  </thead>\n",
       "  <tbody>\n",
       "    <tr>\n",
       "      <th>0</th>\n",
       "      <td>LinearSVC</td>\n",
       "      <td>0.971565</td>\n",
       "      <td>0.971458</td>\n",
       "      <td>0.971565</td>\n",
       "      <td>0.971441</td>\n",
       "    </tr>\n",
       "    <tr>\n",
       "      <th>1</th>\n",
       "      <td>LogRegression</td>\n",
       "      <td>0.935811</td>\n",
       "      <td>0.937000</td>\n",
       "      <td>0.935811</td>\n",
       "      <td>0.934991</td>\n",
       "    </tr>\n",
       "    <tr>\n",
       "      <th>2</th>\n",
       "      <td>MultinomialNB</td>\n",
       "      <td>0.833333</td>\n",
       "      <td>0.856464</td>\n",
       "      <td>0.833333</td>\n",
       "      <td>0.828014</td>\n",
       "    </tr>\n",
       "    <tr>\n",
       "      <th>3</th>\n",
       "      <td>BernoulliNB</td>\n",
       "      <td>0.833333</td>\n",
       "      <td>0.856464</td>\n",
       "      <td>0.833333</td>\n",
       "      <td>0.828014</td>\n",
       "    </tr>\n",
       "    <tr>\n",
       "      <th>4</th>\n",
       "      <td>GradientBoost</td>\n",
       "      <td>0.833333</td>\n",
       "      <td>0.856464</td>\n",
       "      <td>0.833333</td>\n",
       "      <td>0.828014</td>\n",
       "    </tr>\n",
       "    <tr>\n",
       "      <th>5</th>\n",
       "      <td>XGBoost</td>\n",
       "      <td>0.918919</td>\n",
       "      <td>0.924090</td>\n",
       "      <td>0.918919</td>\n",
       "      <td>0.917877</td>\n",
       "    </tr>\n",
       "  </tbody>\n",
       "</table>\n",
       "</div>"
      ],
      "text/plain": [
       "     model_names  accuracy  precision    recall  f1_score\n",
       "0      LinearSVC  0.971565   0.971458  0.971565  0.971441\n",
       "1  LogRegression  0.935811   0.937000  0.935811  0.934991\n",
       "2  MultinomialNB  0.833333   0.856464  0.833333  0.828014\n",
       "3    BernoulliNB  0.833333   0.856464  0.833333  0.828014\n",
       "4  GradientBoost  0.833333   0.856464  0.833333  0.828014\n",
       "5        XGBoost  0.918919   0.924090  0.918919  0.917877"
      ]
     },
     "execution_count": 122,
     "metadata": {},
     "output_type": "execute_result"
    }
   ],
   "source": [
    "# list of model objects\n",
    "model_objects = [model_lsvm_head, model_lr, model_mnb, model_mnb, model_mnb, xg_boost_ds]\n",
    "\n",
    "# list of model names\n",
    "model_names = ['LinearSVC', 'LogRegression','MultinomialNB','BernoulliNB','GradientBoost','XGBoost']\n",
    "\n",
    "# print the comparison of models\n",
    "met_df = metrics_comparison(model_objects,model_names, X_test_head, y_test_head, enc_test)\n",
    "met_df"
   ]
  },
  {
   "cell_type": "code",
   "execution_count": 106,
   "metadata": {},
   "outputs": [
    {
     "data": {
      "text/plain": [
       "array(['neutral', 'negative', 'positive', ..., 'neutral', 'positive',\n",
       "       'neutral'], dtype=object)"
      ]
     },
     "execution_count": 106,
     "metadata": {},
     "output_type": "execute_result"
    }
   ],
   "source": [
    "pred = model_lsvm.predict(X_test_head)\n",
    "pred"
   ]
  },
  {
   "cell_type": "code",
   "execution_count": 107,
   "metadata": {},
   "outputs": [
    {
     "data": {
      "text/html": [
       "<div>\n",
       "<style scoped>\n",
       "    .dataframe tbody tr th:only-of-type {\n",
       "        vertical-align: middle;\n",
       "    }\n",
       "\n",
       "    .dataframe tbody tr th {\n",
       "        vertical-align: top;\n",
       "    }\n",
       "\n",
       "    .dataframe thead th {\n",
       "        text-align: right;\n",
       "    }\n",
       "</style>\n",
       "<table border=\"1\" class=\"dataframe\">\n",
       "  <thead>\n",
       "    <tr style=\"text-align: right;\">\n",
       "      <th></th>\n",
       "      <th>predictions</th>\n",
       "    </tr>\n",
       "  </thead>\n",
       "  <tbody>\n",
       "    <tr>\n",
       "      <th>0</th>\n",
       "      <td>neutral</td>\n",
       "    </tr>\n",
       "    <tr>\n",
       "      <th>1</th>\n",
       "      <td>negative</td>\n",
       "    </tr>\n",
       "    <tr>\n",
       "      <th>2</th>\n",
       "      <td>positive</td>\n",
       "    </tr>\n",
       "    <tr>\n",
       "      <th>3</th>\n",
       "      <td>neutral</td>\n",
       "    </tr>\n",
       "    <tr>\n",
       "      <th>4</th>\n",
       "      <td>neutral</td>\n",
       "    </tr>\n",
       "  </tbody>\n",
       "</table>\n",
       "</div>"
      ],
      "text/plain": [
       "  predictions\n",
       "0     neutral\n",
       "1    negative\n",
       "2    positive\n",
       "3     neutral\n",
       "4     neutral"
      ]
     },
     "execution_count": 107,
     "metadata": {},
     "output_type": "execute_result"
    }
   ],
   "source": [
    "pred_headlines = pd.DataFrame(pred, columns=['predictions'])\n",
    "pred_headlines.head()"
   ]
  },
  {
   "cell_type": "code",
   "execution_count": 128,
   "metadata": {},
   "outputs": [
    {
     "data": {
      "text/plain": [
       "array(['neutral'], dtype=object)"
      ]
     },
     "execution_count": 128,
     "metadata": {},
     "output_type": "execute_result"
    }
   ],
   "source": [
    "sent1 = ['Man jailed after defrauding Worle butcher of thousands of pounds']\n",
    "y_predict = model_lsvm_head.predict(sent1)\n",
    "y_predict"
   ]
  },
  {
   "cell_type": "code",
   "execution_count": 124,
   "metadata": {},
   "outputs": [
    {
     "data": {
      "text/plain": [
       "array(['positive'], dtype=object)"
      ]
     },
     "execution_count": 124,
     "metadata": {},
     "output_type": "execute_result"
    }
   ],
   "source": [
    "\n",
    "sent2 =[\"Finance Ministry releases Rs 9,871 crore to 17 states as grant\"]\n",
    "y_predict = model_lsvm_head.predict(sent2)\n",
    "y_predict"
   ]
  },
  {
   "cell_type": "code",
   "execution_count": 119,
   "metadata": {},
   "outputs": [
    {
     "data": {
      "text/plain": [
       "array(['neutral'], dtype=object)"
      ]
     },
     "execution_count": 119,
     "metadata": {},
     "output_type": "execute_result"
    }
   ],
   "source": [
    "sent3 = ['sensex advance 250 points,nifity50 above17650; bharti airtel ,tata steel rise 1% each']\n",
    "y_predict = model_lsvm.predict(sent3)\n",
    "y_predict"
   ]
  },
  {
   "cell_type": "code",
   "execution_count": null,
   "metadata": {},
   "outputs": [],
   "source": []
  }
 ],
 "metadata": {
  "kernelspec": {
   "display_name": "Python 3 (ipykernel)",
   "language": "python",
   "name": "python3"
  },
  "language_info": {
   "codemirror_mode": {
    "name": "ipython",
    "version": 3
   },
   "file_extension": ".py",
   "mimetype": "text/x-python",
   "name": "python",
   "nbconvert_exporter": "python",
   "pygments_lexer": "ipython3",
   "version": "3.9.7"
  }
 },
 "nbformat": 4,
 "nbformat_minor": 4
}
